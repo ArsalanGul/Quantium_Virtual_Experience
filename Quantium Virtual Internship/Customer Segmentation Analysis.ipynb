{
 "cells": [
  {
   "cell_type": "markdown",
   "metadata": {},
   "source": [
    "### Introduction:\n",
    "\n",
    "Step 1: importing libraries and data\n",
    "\n",
    "Step 2: Exploratory Data Analysis(EDA)\n",
    "\n",
    "Step 3: Joining of datasets and Feature Engineering (Formed 2 new features from name of the product and one of price per unit)\n",
    "\n",
    "Step 4: Finding Drivers of Sales and how each feature impacts sales\n",
    "\n",
    "Step 5: Finding top and bottom products\n",
    "\n",
    "Step 6: How to imporve Sales?\n"
   ]
  },
  {
   "cell_type": "code",
   "execution_count": 1,
   "metadata": {},
   "outputs": [],
   "source": [
    "# import dependencies\n",
    "\n",
    "import numpy as np\n",
    "import pandas as pd\n",
    "import matplotlib.pyplot as plt\n",
    "import seaborn as sns\n",
    "import random"
   ]
  },
  {
   "cell_type": "code",
   "execution_count": 2,
   "metadata": {},
   "outputs": [],
   "source": [
    "# import data\n",
    "\n",
    "purchase_data=pd.read_csv('QVI_purchase_behaviour.csv')\n",
    "transaction_data=pd.read_excel('QVI_transaction_data.xlsx')"
   ]
  },
  {
   "cell_type": "code",
   "execution_count": 3,
   "metadata": {},
   "outputs": [
    {
     "data": {
      "text/html": [
       "<div>\n",
       "<style scoped>\n",
       "    .dataframe tbody tr th:only-of-type {\n",
       "        vertical-align: middle;\n",
       "    }\n",
       "\n",
       "    .dataframe tbody tr th {\n",
       "        vertical-align: top;\n",
       "    }\n",
       "\n",
       "    .dataframe thead th {\n",
       "        text-align: right;\n",
       "    }\n",
       "</style>\n",
       "<table border=\"1\" class=\"dataframe\">\n",
       "  <thead>\n",
       "    <tr style=\"text-align: right;\">\n",
       "      <th></th>\n",
       "      <th>LYLTY_CARD_NBR</th>\n",
       "      <th>LIFESTAGE</th>\n",
       "      <th>PREMIUM_CUSTOMER</th>\n",
       "    </tr>\n",
       "  </thead>\n",
       "  <tbody>\n",
       "    <tr>\n",
       "      <th>0</th>\n",
       "      <td>1000</td>\n",
       "      <td>YOUNG SINGLES/COUPLES</td>\n",
       "      <td>Premium</td>\n",
       "    </tr>\n",
       "    <tr>\n",
       "      <th>1</th>\n",
       "      <td>1002</td>\n",
       "      <td>YOUNG SINGLES/COUPLES</td>\n",
       "      <td>Mainstream</td>\n",
       "    </tr>\n",
       "    <tr>\n",
       "      <th>2</th>\n",
       "      <td>1003</td>\n",
       "      <td>YOUNG FAMILIES</td>\n",
       "      <td>Budget</td>\n",
       "    </tr>\n",
       "    <tr>\n",
       "      <th>3</th>\n",
       "      <td>1004</td>\n",
       "      <td>OLDER SINGLES/COUPLES</td>\n",
       "      <td>Mainstream</td>\n",
       "    </tr>\n",
       "    <tr>\n",
       "      <th>4</th>\n",
       "      <td>1005</td>\n",
       "      <td>MIDAGE SINGLES/COUPLES</td>\n",
       "      <td>Mainstream</td>\n",
       "    </tr>\n",
       "  </tbody>\n",
       "</table>\n",
       "</div>"
      ],
      "text/plain": [
       "   LYLTY_CARD_NBR               LIFESTAGE PREMIUM_CUSTOMER\n",
       "0            1000   YOUNG SINGLES/COUPLES          Premium\n",
       "1            1002   YOUNG SINGLES/COUPLES       Mainstream\n",
       "2            1003          YOUNG FAMILIES           Budget\n",
       "3            1004   OLDER SINGLES/COUPLES       Mainstream\n",
       "4            1005  MIDAGE SINGLES/COUPLES       Mainstream"
      ]
     },
     "execution_count": 3,
     "metadata": {},
     "output_type": "execute_result"
    }
   ],
   "source": [
    "# Exploring Data\n",
    "\n",
    "purchase_data.head()"
   ]
  },
  {
   "cell_type": "code",
   "execution_count": 4,
   "metadata": {},
   "outputs": [
    {
     "data": {
      "text/html": [
       "<div>\n",
       "<style scoped>\n",
       "    .dataframe tbody tr th:only-of-type {\n",
       "        vertical-align: middle;\n",
       "    }\n",
       "\n",
       "    .dataframe tbody tr th {\n",
       "        vertical-align: top;\n",
       "    }\n",
       "\n",
       "    .dataframe thead th {\n",
       "        text-align: right;\n",
       "    }\n",
       "</style>\n",
       "<table border=\"1\" class=\"dataframe\">\n",
       "  <thead>\n",
       "    <tr style=\"text-align: right;\">\n",
       "      <th></th>\n",
       "      <th>DATE</th>\n",
       "      <th>STORE_NBR</th>\n",
       "      <th>LYLTY_CARD_NBR</th>\n",
       "      <th>TXN_ID</th>\n",
       "      <th>PROD_NBR</th>\n",
       "      <th>PROD_NAME</th>\n",
       "      <th>PROD_QTY</th>\n",
       "      <th>TOT_SALES</th>\n",
       "    </tr>\n",
       "  </thead>\n",
       "  <tbody>\n",
       "    <tr>\n",
       "      <th>0</th>\n",
       "      <td>43390</td>\n",
       "      <td>1</td>\n",
       "      <td>1000</td>\n",
       "      <td>1</td>\n",
       "      <td>5</td>\n",
       "      <td>Natural Chip        Compny SeaSalt175g</td>\n",
       "      <td>2</td>\n",
       "      <td>6.0</td>\n",
       "    </tr>\n",
       "    <tr>\n",
       "      <th>1</th>\n",
       "      <td>43599</td>\n",
       "      <td>1</td>\n",
       "      <td>1307</td>\n",
       "      <td>348</td>\n",
       "      <td>66</td>\n",
       "      <td>CCs Nacho Cheese    175g</td>\n",
       "      <td>3</td>\n",
       "      <td>6.3</td>\n",
       "    </tr>\n",
       "    <tr>\n",
       "      <th>2</th>\n",
       "      <td>43605</td>\n",
       "      <td>1</td>\n",
       "      <td>1343</td>\n",
       "      <td>383</td>\n",
       "      <td>61</td>\n",
       "      <td>Smiths Crinkle Cut  Chips Chicken 170g</td>\n",
       "      <td>2</td>\n",
       "      <td>2.9</td>\n",
       "    </tr>\n",
       "    <tr>\n",
       "      <th>3</th>\n",
       "      <td>43329</td>\n",
       "      <td>2</td>\n",
       "      <td>2373</td>\n",
       "      <td>974</td>\n",
       "      <td>69</td>\n",
       "      <td>Smiths Chip Thinly  S/Cream&amp;Onion 175g</td>\n",
       "      <td>5</td>\n",
       "      <td>15.0</td>\n",
       "    </tr>\n",
       "    <tr>\n",
       "      <th>4</th>\n",
       "      <td>43330</td>\n",
       "      <td>2</td>\n",
       "      <td>2426</td>\n",
       "      <td>1038</td>\n",
       "      <td>108</td>\n",
       "      <td>Kettle Tortilla ChpsHny&amp;Jlpno Chili 150g</td>\n",
       "      <td>3</td>\n",
       "      <td>13.8</td>\n",
       "    </tr>\n",
       "  </tbody>\n",
       "</table>\n",
       "</div>"
      ],
      "text/plain": [
       "    DATE  STORE_NBR  LYLTY_CARD_NBR  TXN_ID  PROD_NBR  \\\n",
       "0  43390          1            1000       1         5   \n",
       "1  43599          1            1307     348        66   \n",
       "2  43605          1            1343     383        61   \n",
       "3  43329          2            2373     974        69   \n",
       "4  43330          2            2426    1038       108   \n",
       "\n",
       "                                  PROD_NAME  PROD_QTY  TOT_SALES  \n",
       "0    Natural Chip        Compny SeaSalt175g         2        6.0  \n",
       "1                  CCs Nacho Cheese    175g         3        6.3  \n",
       "2    Smiths Crinkle Cut  Chips Chicken 170g         2        2.9  \n",
       "3    Smiths Chip Thinly  S/Cream&Onion 175g         5       15.0  \n",
       "4  Kettle Tortilla ChpsHny&Jlpno Chili 150g         3       13.8  "
      ]
     },
     "execution_count": 4,
     "metadata": {},
     "output_type": "execute_result"
    }
   ],
   "source": [
    "transaction_data.head()"
   ]
  },
  {
   "cell_type": "code",
   "execution_count": 5,
   "metadata": {},
   "outputs": [
    {
     "name": "stdout",
     "output_type": "stream",
     "text": [
      "<class 'pandas.core.frame.DataFrame'>\n",
      "RangeIndex: 72637 entries, 0 to 72636\n",
      "Data columns (total 3 columns):\n",
      "LYLTY_CARD_NBR      72637 non-null int64\n",
      "LIFESTAGE           72637 non-null object\n",
      "PREMIUM_CUSTOMER    72637 non-null object\n",
      "dtypes: int64(1), object(2)\n",
      "memory usage: 1.7+ MB\n"
     ]
    }
   ],
   "source": [
    "purchase_data.info()   "
   ]
  },
  {
   "cell_type": "markdown",
   "metadata": {},
   "source": [
    "-----> No null object found and data types are also consistent"
   ]
  },
  {
   "cell_type": "code",
   "execution_count": 6,
   "metadata": {},
   "outputs": [
    {
     "name": "stdout",
     "output_type": "stream",
     "text": [
      "<class 'pandas.core.frame.DataFrame'>\n",
      "RangeIndex: 264836 entries, 0 to 264835\n",
      "Data columns (total 8 columns):\n",
      "DATE              264836 non-null int64\n",
      "STORE_NBR         264836 non-null int64\n",
      "LYLTY_CARD_NBR    264836 non-null int64\n",
      "TXN_ID            264836 non-null int64\n",
      "PROD_NBR          264836 non-null int64\n",
      "PROD_NAME         264836 non-null object\n",
      "PROD_QTY          264836 non-null int64\n",
      "TOT_SALES         264836 non-null float64\n",
      "dtypes: float64(1), int64(6), object(1)\n",
      "memory usage: 16.2+ MB\n"
     ]
    }
   ],
   "source": [
    "transaction_data.info()"
   ]
  },
  {
   "cell_type": "markdown",
   "metadata": {},
   "source": [
    "----->No null object found and data types are also consistent"
   ]
  },
  {
   "cell_type": "markdown",
   "metadata": {},
   "source": [
    "### Complete overview and exploration of purchase data"
   ]
  },
  {
   "cell_type": "code",
   "execution_count": 7,
   "metadata": {},
   "outputs": [
    {
     "data": {
      "text/plain": [
       "Index(['LYLTY_CARD_NBR', 'LIFESTAGE', 'PREMIUM_CUSTOMER'], dtype='object')"
      ]
     },
     "execution_count": 7,
     "metadata": {},
     "output_type": "execute_result"
    }
   ],
   "source": [
    "purchase_data.columns"
   ]
  },
  {
   "cell_type": "code",
   "execution_count": 8,
   "metadata": {},
   "outputs": [
    {
     "data": {
      "text/plain": [
       "array(['YOUNG SINGLES/COUPLES', 'YOUNG FAMILIES', 'OLDER SINGLES/COUPLES',\n",
       "       'MIDAGE SINGLES/COUPLES', 'NEW FAMILIES', 'OLDER FAMILIES',\n",
       "       'RETIREES'], dtype=object)"
      ]
     },
     "execution_count": 8,
     "metadata": {},
     "output_type": "execute_result"
    }
   ],
   "source": [
    "purchase_data['LIFESTAGE'].unique()"
   ]
  },
  {
   "cell_type": "code",
   "execution_count": 9,
   "metadata": {},
   "outputs": [
    {
     "data": {
      "text/plain": [
       "array(['Premium', 'Mainstream', 'Budget'], dtype=object)"
      ]
     },
     "execution_count": 9,
     "metadata": {},
     "output_type": "execute_result"
    }
   ],
   "source": [
    "purchase_data['PREMIUM_CUSTOMER'].unique()"
   ]
  },
  {
   "cell_type": "code",
   "execution_count": 10,
   "metadata": {},
   "outputs": [
    {
     "name": "stdout",
     "output_type": "stream",
     "text": [
      "18922 Premium\n",
      "29245 Mainstream\n",
      "24470 Budget\n"
     ]
    }
   ],
   "source": [
    "## Finding exact number of customers with three categories of purchase data\n",
    "\n",
    "for l in purchase_data['PREMIUM_CUSTOMER'].unique():\n",
    "    print(purchase_data[purchase_data['PREMIUM_CUSTOMER'] == l].shape[0],l)"
   ]
  },
  {
   "cell_type": "markdown",
   "metadata": {},
   "source": [
    "### Complete overview and exploration of transaction data"
   ]
  },
  {
   "cell_type": "code",
   "execution_count": 11,
   "metadata": {},
   "outputs": [
    {
     "data": {
      "text/plain": [
       "Index(['DATE', 'STORE_NBR', 'LYLTY_CARD_NBR', 'TXN_ID', 'PROD_NBR',\n",
       "       'PROD_NAME', 'PROD_QTY', 'TOT_SALES'],\n",
       "      dtype='object')"
      ]
     },
     "execution_count": 11,
     "metadata": {},
     "output_type": "execute_result"
    }
   ],
   "source": [
    "transaction_data.columns"
   ]
  },
  {
   "cell_type": "code",
   "execution_count": 12,
   "metadata": {},
   "outputs": [
    {
     "data": {
      "text/plain": [
       "<matplotlib.collections.PathCollection at 0x2094bf1ac18>"
      ]
     },
     "execution_count": 12,
     "metadata": {},
     "output_type": "execute_result"
    },
    {
     "data": {
      "image/png": "[encoded data removed]",
      "text/plain": [
       "<Figure size 432x288 with 1 Axes>"
      ]
     },
     "metadata": {
      "needs_background": "light"
     },
     "output_type": "display_data"
    }
   ],
   "source": [
    "plt.scatter(transaction_data['PROD_NBR'],transaction_data['PROD_QTY'])"
   ]
  },
  {
   "cell_type": "markdown",
   "metadata": {},
   "source": [
    "------->Located outlier in Product Quantity "
   ]
  },
  {
   "cell_type": "code",
   "execution_count": 13,
   "metadata": {},
   "outputs": [
    {
     "data": {
      "text/html": [
       "<div>\n",
       "<style scoped>\n",
       "    .dataframe tbody tr th:only-of-type {\n",
       "        vertical-align: middle;\n",
       "    }\n",
       "\n",
       "    .dataframe tbody tr th {\n",
       "        vertical-align: top;\n",
       "    }\n",
       "\n",
       "    .dataframe thead th {\n",
       "        text-align: right;\n",
       "    }\n",
       "</style>\n",
       "<table border=\"1\" class=\"dataframe\">\n",
       "  <thead>\n",
       "    <tr style=\"text-align: right;\">\n",
       "      <th></th>\n",
       "      <th>DATE</th>\n",
       "      <th>STORE_NBR</th>\n",
       "      <th>LYLTY_CARD_NBR</th>\n",
       "      <th>TXN_ID</th>\n",
       "      <th>PROD_NBR</th>\n",
       "      <th>PROD_NAME</th>\n",
       "      <th>PROD_QTY</th>\n",
       "      <th>TOT_SALES</th>\n",
       "    </tr>\n",
       "  </thead>\n",
       "  <tbody>\n",
       "    <tr>\n",
       "      <th>69762</th>\n",
       "      <td>43331</td>\n",
       "      <td>226</td>\n",
       "      <td>226000</td>\n",
       "      <td>226201</td>\n",
       "      <td>4</td>\n",
       "      <td>Dorito Corn Chp     Supreme 380g</td>\n",
       "      <td>200</td>\n",
       "      <td>650.0</td>\n",
       "    </tr>\n",
       "    <tr>\n",
       "      <th>69763</th>\n",
       "      <td>43605</td>\n",
       "      <td>226</td>\n",
       "      <td>226000</td>\n",
       "      <td>226210</td>\n",
       "      <td>4</td>\n",
       "      <td>Dorito Corn Chp     Supreme 380g</td>\n",
       "      <td>200</td>\n",
       "      <td>650.0</td>\n",
       "    </tr>\n",
       "  </tbody>\n",
       "</table>\n",
       "</div>"
      ],
      "text/plain": [
       "        DATE  STORE_NBR  LYLTY_CARD_NBR  TXN_ID  PROD_NBR  \\\n",
       "69762  43331        226          226000  226201         4   \n",
       "69763  43605        226          226000  226210         4   \n",
       "\n",
       "                              PROD_NAME  PROD_QTY  TOT_SALES  \n",
       "69762  Dorito Corn Chp     Supreme 380g       200      650.0  \n",
       "69763  Dorito Corn Chp     Supreme 380g       200      650.0  "
      ]
     },
     "execution_count": 13,
     "metadata": {},
     "output_type": "execute_result"
    }
   ],
   "source": [
    "transaction_data[transaction_data['PROD_QTY'] == 200]"
   ]
  },
  {
   "cell_type": "code",
   "execution_count": 14,
   "metadata": {},
   "outputs": [
    {
     "data": {
      "text/html": [
       "<div>\n",
       "<style scoped>\n",
       "    .dataframe tbody tr th:only-of-type {\n",
       "        vertical-align: middle;\n",
       "    }\n",
       "\n",
       "    .dataframe tbody tr th {\n",
       "        vertical-align: top;\n",
       "    }\n",
       "\n",
       "    .dataframe thead th {\n",
       "        text-align: right;\n",
       "    }\n",
       "</style>\n",
       "<table border=\"1\" class=\"dataframe\">\n",
       "  <thead>\n",
       "    <tr style=\"text-align: right;\">\n",
       "      <th></th>\n",
       "      <th>LYLTY_CARD_NBR</th>\n",
       "      <th>LIFESTAGE</th>\n",
       "      <th>PREMIUM_CUSTOMER</th>\n",
       "    </tr>\n",
       "  </thead>\n",
       "  <tbody>\n",
       "    <tr>\n",
       "      <th>59694</th>\n",
       "      <td>226000</td>\n",
       "      <td>OLDER FAMILIES</td>\n",
       "      <td>Premium</td>\n",
       "    </tr>\n",
       "  </tbody>\n",
       "</table>\n",
       "</div>"
      ],
      "text/plain": [
       "       LYLTY_CARD_NBR       LIFESTAGE PREMIUM_CUSTOMER\n",
       "59694          226000  OLDER FAMILIES          Premium"
      ]
     },
     "execution_count": 14,
     "metadata": {},
     "output_type": "execute_result"
    }
   ],
   "source": [
    "purchase_data[purchase_data['LYLTY_CARD_NBR'] == 226000]"
   ]
  },
  {
   "cell_type": "markdown",
   "metadata": {},
   "source": [
    "It is probably a large family who have twice bought 200 products.But since it is only one customer we can remove this outlier, to get better picture of our analysis for other customers."
   ]
  },
  {
   "cell_type": "code",
   "execution_count": 25,
   "metadata": {},
   "outputs": [],
   "source": [
    "purchase_data=purchase_data.drop(index=59694).reset_index()\n",
    "transaction_data=transaction_data.drop(index=[69762,69763]).reset_index()\n"
   ]
  },
  {
   "cell_type": "markdown",
   "metadata": {},
   "source": [
    "### Joining of datasets"
   ]
  },
  {
   "cell_type": "code",
   "execution_count": 26,
   "metadata": {},
   "outputs": [],
   "source": [
    "full_sales_data=purchase_data.merge(transaction_data,on='LYLTY_CARD_NBR',how='left')"
   ]
  },
  {
   "cell_type": "code",
   "execution_count": 27,
   "metadata": {},
   "outputs": [],
   "source": [
    "full_sales_data=full_sales_data.drop(['index_x','index_y'],axis=1)"
   ]
  },
  {
   "cell_type": "code",
   "execution_count": 28,
   "metadata": {},
   "outputs": [],
   "source": [
    "full_sales_data=full_sales_data.sort_values(by='DATE').reset_index(drop=True)"
   ]
  },
  {
   "cell_type": "code",
   "execution_count": 29,
   "metadata": {},
   "outputs": [
    {
     "data": {
      "text/html": [
       "<div>\n",
       "<style scoped>\n",
       "    .dataframe tbody tr th:only-of-type {\n",
       "        vertical-align: middle;\n",
       "    }\n",
       "\n",
       "    .dataframe tbody tr th {\n",
       "        vertical-align: top;\n",
       "    }\n",
       "\n",
       "    .dataframe thead th {\n",
       "        text-align: right;\n",
       "    }\n",
       "</style>\n",
       "<table border=\"1\" class=\"dataframe\">\n",
       "  <thead>\n",
       "    <tr style=\"text-align: right;\">\n",
       "      <th></th>\n",
       "      <th>level_0_x</th>\n",
       "      <th>LYLTY_CARD_NBR</th>\n",
       "      <th>LIFESTAGE</th>\n",
       "      <th>PREMIUM_CUSTOMER</th>\n",
       "      <th>level_0_y</th>\n",
       "      <th>DATE</th>\n",
       "      <th>STORE_NBR</th>\n",
       "      <th>TXN_ID</th>\n",
       "      <th>PROD_NBR</th>\n",
       "      <th>PROD_NAME</th>\n",
       "      <th>PROD_QTY</th>\n",
       "      <th>TOT_SALES</th>\n",
       "    </tr>\n",
       "  </thead>\n",
       "  <tbody>\n",
       "    <tr>\n",
       "      <th>0</th>\n",
       "      <td>8466</td>\n",
       "      <td>30109</td>\n",
       "      <td>OLDER FAMILIES</td>\n",
       "      <td>Budget</td>\n",
       "      <td>34842</td>\n",
       "      <td>43282</td>\n",
       "      <td>30</td>\n",
       "      <td>27159</td>\n",
       "      <td>66</td>\n",
       "      <td>CCs Nacho Cheese    175g</td>\n",
       "      <td>2</td>\n",
       "      <td>4.2</td>\n",
       "    </tr>\n",
       "    <tr>\n",
       "      <th>1</th>\n",
       "      <td>29240</td>\n",
       "      <td>107162</td>\n",
       "      <td>OLDER SINGLES/COUPLES</td>\n",
       "      <td>Premium</td>\n",
       "      <td>124889</td>\n",
       "      <td>43282</td>\n",
       "      <td>107</td>\n",
       "      <td>109257</td>\n",
       "      <td>15</td>\n",
       "      <td>Twisties Cheese     270g</td>\n",
       "      <td>2</td>\n",
       "      <td>9.2</td>\n",
       "    </tr>\n",
       "    <tr>\n",
       "      <th>2</th>\n",
       "      <td>72158</td>\n",
       "      <td>271083</td>\n",
       "      <td>YOUNG FAMILIES</td>\n",
       "      <td>Budget</td>\n",
       "      <td>203916</td>\n",
       "      <td>43282</td>\n",
       "      <td>271</td>\n",
       "      <td>268688</td>\n",
       "      <td>97</td>\n",
       "      <td>RRD Salt &amp; Vinegar  165g</td>\n",
       "      <td>2</td>\n",
       "      <td>6.0</td>\n",
       "    </tr>\n",
       "    <tr>\n",
       "      <th>3</th>\n",
       "      <td>52575</td>\n",
       "      <td>197352</td>\n",
       "      <td>RETIREES</td>\n",
       "      <td>Premium</td>\n",
       "      <td>181323</td>\n",
       "      <td>43282</td>\n",
       "      <td>197</td>\n",
       "      <td>197323</td>\n",
       "      <td>18</td>\n",
       "      <td>Cheetos Chs &amp; Bacon Balls 190g</td>\n",
       "      <td>2</td>\n",
       "      <td>6.6</td>\n",
       "    </tr>\n",
       "    <tr>\n",
       "      <th>4</th>\n",
       "      <td>52565</td>\n",
       "      <td>197341</td>\n",
       "      <td>YOUNG SINGLES/COUPLES</td>\n",
       "      <td>Mainstream</td>\n",
       "      <td>252874</td>\n",
       "      <td>43282</td>\n",
       "      <td>197</td>\n",
       "      <td>197303</td>\n",
       "      <td>89</td>\n",
       "      <td>Kettle Sweet Chilli And Sour Cream 175g</td>\n",
       "      <td>2</td>\n",
       "      <td>10.8</td>\n",
       "    </tr>\n",
       "  </tbody>\n",
       "</table>\n",
       "</div>"
      ],
      "text/plain": [
       "   level_0_x  LYLTY_CARD_NBR              LIFESTAGE PREMIUM_CUSTOMER  \\\n",
       "0       8466           30109         OLDER FAMILIES           Budget   \n",
       "1      29240          107162  OLDER SINGLES/COUPLES          Premium   \n",
       "2      72158          271083         YOUNG FAMILIES           Budget   \n",
       "3      52575          197352               RETIREES          Premium   \n",
       "4      52565          197341  YOUNG SINGLES/COUPLES       Mainstream   \n",
       "\n",
       "   level_0_y   DATE  STORE_NBR  TXN_ID  PROD_NBR  \\\n",
       "0      34842  43282         30   27159        66   \n",
       "1     124889  43282        107  109257        15   \n",
       "2     203916  43282        271  268688        97   \n",
       "3     181323  43282        197  197323        18   \n",
       "4     252874  43282        197  197303        89   \n",
       "\n",
       "                                 PROD_NAME  PROD_QTY  TOT_SALES  \n",
       "0                 CCs Nacho Cheese    175g         2        4.2  \n",
       "1                 Twisties Cheese     270g         2        9.2  \n",
       "2                 RRD Salt & Vinegar  165g         2        6.0  \n",
       "3           Cheetos Chs & Bacon Balls 190g         2        6.6  \n",
       "4  Kettle Sweet Chilli And Sour Cream 175g         2       10.8  "
      ]
     },
     "execution_count": 29,
     "metadata": {},
     "output_type": "execute_result"
    }
   ],
   "source": [
    "full_sales_data.head()"
   ]
  },
  {
   "cell_type": "markdown",
   "metadata": {},
   "source": [
    "### Feature Engineering and EDA"
   ]
  },
  {
   "cell_type": "code",
   "execution_count": 30,
   "metadata": {},
   "outputs": [
    {
     "data": {
      "text/html": [
       "<div>\n",
       "<style scoped>\n",
       "    .dataframe tbody tr th:only-of-type {\n",
       "        vertical-align: middle;\n",
       "    }\n",
       "\n",
       "    .dataframe tbody tr th {\n",
       "        vertical-align: top;\n",
       "    }\n",
       "\n",
       "    .dataframe thead th {\n",
       "        text-align: right;\n",
       "    }\n",
       "</style>\n",
       "<table border=\"1\" class=\"dataframe\">\n",
       "  <thead>\n",
       "    <tr style=\"text-align: right;\">\n",
       "      <th></th>\n",
       "      <th>level_0_x</th>\n",
       "      <th>LYLTY_CARD_NBR</th>\n",
       "      <th>level_0_y</th>\n",
       "      <th>DATE</th>\n",
       "      <th>STORE_NBR</th>\n",
       "      <th>TXN_ID</th>\n",
       "      <th>PROD_NBR</th>\n",
       "      <th>PROD_QTY</th>\n",
       "      <th>TOT_SALES</th>\n",
       "    </tr>\n",
       "  </thead>\n",
       "  <tbody>\n",
       "    <tr>\n",
       "      <th>count</th>\n",
       "      <td>264828.000000</td>\n",
       "      <td>2.648280e+05</td>\n",
       "      <td>264828.000000</td>\n",
       "      <td>264828.000000</td>\n",
       "      <td>264828.000000</td>\n",
       "      <td>2.648280e+05</td>\n",
       "      <td>264828.000000</td>\n",
       "      <td>264828.000000</td>\n",
       "      <td>264828.000000</td>\n",
       "    </tr>\n",
       "    <tr>\n",
       "      <th>mean</th>\n",
       "      <td>36297.144679</td>\n",
       "      <td>1.355467e+05</td>\n",
       "      <td>132417.519077</td>\n",
       "      <td>43464.035004</td>\n",
       "      <td>135.077363</td>\n",
       "      <td>1.351556e+05</td>\n",
       "      <td>56.583447</td>\n",
       "      <td>1.905818</td>\n",
       "      <td>7.299345</td>\n",
       "    </tr>\n",
       "    <tr>\n",
       "      <th>std</th>\n",
       "      <td>20287.389568</td>\n",
       "      <td>8.057966e+04</td>\n",
       "      <td>76451.678043</td>\n",
       "      <td>105.389079</td>\n",
       "      <td>76.783714</td>\n",
       "      <td>7.813259e+04</td>\n",
       "      <td>32.826637</td>\n",
       "      <td>0.343431</td>\n",
       "      <td>2.527235</td>\n",
       "    </tr>\n",
       "    <tr>\n",
       "      <th>min</th>\n",
       "      <td>0.000000</td>\n",
       "      <td>1.000000e+03</td>\n",
       "      <td>0.000000</td>\n",
       "      <td>43282.000000</td>\n",
       "      <td>1.000000</td>\n",
       "      <td>1.000000e+00</td>\n",
       "      <td>1.000000</td>\n",
       "      <td>1.000000</td>\n",
       "      <td>1.500000</td>\n",
       "    </tr>\n",
       "    <tr>\n",
       "      <th>25%</th>\n",
       "      <td>19105.000000</td>\n",
       "      <td>7.002100e+04</td>\n",
       "      <td>66206.750000</td>\n",
       "      <td>43373.000000</td>\n",
       "      <td>70.000000</td>\n",
       "      <td>6.759875e+04</td>\n",
       "      <td>28.000000</td>\n",
       "      <td>2.000000</td>\n",
       "      <td>5.400000</td>\n",
       "    </tr>\n",
       "    <tr>\n",
       "      <th>50%</th>\n",
       "      <td>35598.000000</td>\n",
       "      <td>1.303560e+05</td>\n",
       "      <td>132419.500000</td>\n",
       "      <td>43464.000000</td>\n",
       "      <td>130.000000</td>\n",
       "      <td>1.351335e+05</td>\n",
       "      <td>56.000000</td>\n",
       "      <td>2.000000</td>\n",
       "      <td>7.400000</td>\n",
       "    </tr>\n",
       "    <tr>\n",
       "      <th>75%</th>\n",
       "      <td>54196.000000</td>\n",
       "      <td>2.030930e+05</td>\n",
       "      <td>198626.250000</td>\n",
       "      <td>43555.000000</td>\n",
       "      <td>203.000000</td>\n",
       "      <td>2.026952e+05</td>\n",
       "      <td>85.000000</td>\n",
       "      <td>2.000000</td>\n",
       "      <td>9.200000</td>\n",
       "    </tr>\n",
       "    <tr>\n",
       "      <th>max</th>\n",
       "      <td>72635.000000</td>\n",
       "      <td>2.373711e+06</td>\n",
       "      <td>264833.000000</td>\n",
       "      <td>43646.000000</td>\n",
       "      <td>272.000000</td>\n",
       "      <td>2.415841e+06</td>\n",
       "      <td>114.000000</td>\n",
       "      <td>5.000000</td>\n",
       "      <td>29.500000</td>\n",
       "    </tr>\n",
       "  </tbody>\n",
       "</table>\n",
       "</div>"
      ],
      "text/plain": [
       "           level_0_x  LYLTY_CARD_NBR      level_0_y           DATE  \\\n",
       "count  264828.000000    2.648280e+05  264828.000000  264828.000000   \n",
       "mean    36297.144679    1.355467e+05  132417.519077   43464.035004   \n",
       "std     20287.389568    8.057966e+04   76451.678043     105.389079   \n",
       "min         0.000000    1.000000e+03       0.000000   43282.000000   \n",
       "25%     19105.000000    7.002100e+04   66206.750000   43373.000000   \n",
       "50%     35598.000000    1.303560e+05  132419.500000   43464.000000   \n",
       "75%     54196.000000    2.030930e+05  198626.250000   43555.000000   \n",
       "max     72635.000000    2.373711e+06  264833.000000   43646.000000   \n",
       "\n",
       "           STORE_NBR        TXN_ID       PROD_NBR       PROD_QTY  \\\n",
       "count  264828.000000  2.648280e+05  264828.000000  264828.000000   \n",
       "mean      135.077363  1.351556e+05      56.583447       1.905818   \n",
       "std        76.783714  7.813259e+04      32.826637       0.343431   \n",
       "min         1.000000  1.000000e+00       1.000000       1.000000   \n",
       "25%        70.000000  6.759875e+04      28.000000       2.000000   \n",
       "50%       130.000000  1.351335e+05      56.000000       2.000000   \n",
       "75%       203.000000  2.026952e+05      85.000000       2.000000   \n",
       "max       272.000000  2.415841e+06     114.000000       5.000000   \n",
       "\n",
       "           TOT_SALES  \n",
       "count  264828.000000  \n",
       "mean        7.299345  \n",
       "std         2.527235  \n",
       "min         1.500000  \n",
       "25%         5.400000  \n",
       "50%         7.400000  \n",
       "75%         9.200000  \n",
       "max        29.500000  "
      ]
     },
     "execution_count": 30,
     "metadata": {},
     "output_type": "execute_result"
    }
   ],
   "source": [
    "full_sales_data.describe()"
   ]
  },
  {
   "cell_type": "code",
   "execution_count": 31,
   "metadata": {},
   "outputs": [],
   "source": [
    "test_array=np.array(full_sales_data['PROD_NAME'])"
   ]
  },
  {
   "cell_type": "code",
   "execution_count": 32,
   "metadata": {},
   "outputs": [
    {
     "data": {
      "text/plain": [
       "array(['CCs Nacho Cheese    175g', 'Twisties Cheese     270g',\n",
       "       'RRD Salt & Vinegar  165g', ...,\n",
       "       'Smiths Thinly       Swt Chli&S/Cream175G',\n",
       "       'Natural ChipCo      Hony Soy Chckn175g',\n",
       "       'WW Original Stacked Chips 160g'], dtype=object)"
      ]
     },
     "execution_count": 32,
     "metadata": {},
     "output_type": "execute_result"
    }
   ],
   "source": [
    "test_array"
   ]
  },
  {
   "cell_type": "code",
   "execution_count": 33,
   "metadata": {},
   "outputs": [],
   "source": [
    "## Get the weight feature\n",
    "\n",
    "import re\n",
    "for i in range(0,3550):\n",
    "    full_sales_data.loc[i,'Weight']=re.findall(r'[0-9]{2,3}',test_array[i])"
   ]
  },
  {
   "cell_type": "code",
   "execution_count": 34,
   "metadata": {},
   "outputs": [],
   "source": [
    "for i in range(0,3550):\n",
    "    full_sales_data.loc[i,'Brand']=re.findall('^[^\\s]+',test_array[i].lower())"
   ]
  },
  {
   "cell_type": "code",
   "execution_count": 35,
   "metadata": {},
   "outputs": [
    {
     "data": {
      "text/plain": [
       "0         ccs\n",
       "1    twisties\n",
       "2         rrd\n",
       "3     cheetos\n",
       "4      kettle\n",
       "Name: Brand, dtype: object"
      ]
     },
     "execution_count": 35,
     "metadata": {},
     "output_type": "execute_result"
    }
   ],
   "source": [
    "full_sales_data['Brand'].head()"
   ]
  },
  {
   "cell_type": "code",
   "execution_count": 36,
   "metadata": {},
   "outputs": [
    {
     "data": {
      "text/plain": [
       "array(['ccs', 'twisties', 'rrd', 'cheetos', 'kettle', 'cobs', 'tostitos',\n",
       "       'doritos', 'grain', 'red', 'natural', 'tyrrells', 'old', 'ncc',\n",
       "       'pringles', 'sunbites', 'smith', 'infuzions', 'ww', 'smiths',\n",
       "       'thins', 'cheezels', 'french', 'grnwves', 'burger', 'woolworths',\n",
       "       'dorito', 'infzns', 'snbts', nan], dtype=object)"
      ]
     },
     "execution_count": 36,
     "metadata": {},
     "output_type": "execute_result"
    }
   ],
   "source": [
    "full_sales_data['Brand'].unique()"
   ]
  },
  {
   "cell_type": "markdown",
   "metadata": {},
   "source": [
    "correction of spellings needed in some"
   ]
  },
  {
   "cell_type": "code",
   "execution_count": 37,
   "metadata": {},
   "outputs": [],
   "source": [
    "full_sales_data['Brand']=full_sales_data['Brand'].map({'dorito':'doritos','smith':'smiths',\n",
    "                                                                     'ncc':'ccs','red':'rrd','infzns':'infuzions',\n",
    "                                                                    'grnwves':'grain'})"
   ]
  },
  {
   "cell_type": "code",
   "execution_count": 38,
   "metadata": {},
   "outputs": [],
   "source": [
    "full_sales_data['Price/Product']= np.divide(full_sales_data['TOT_SALES'],full_sales_data['PROD_QTY'])"
   ]
  },
  {
   "cell_type": "code",
   "execution_count": 39,
   "metadata": {},
   "outputs": [],
   "source": [
    "# Selecting initial part of data instead of random rows to keep DATE feature intact\n",
    "# Why 3550? To keep full(almost) data upto DATE:43286 \n",
    "\n",
    "test_data=full_sales_data.iloc[0:3550].reset_index(drop=True)"
   ]
  },
  {
   "cell_type": "markdown",
   "metadata": {},
   "source": [
    "### Total Sales:"
   ]
  },
  {
   "cell_type": "code",
   "execution_count": 40,
   "metadata": {},
   "outputs": [
    {
     "data": {
      "text/plain": [
       "<Figure size 432x288 with 0 Axes>"
      ]
     },
     "metadata": {},
     "output_type": "display_data"
    },
    {
     "data": {
      "image/png": "[encoded data removed]",
      "text/plain": [
       "<Figure size 432x432 with 1 Axes>"
      ]
     },
     "metadata": {},
     "output_type": "display_data"
    }
   ],
   "source": [
    "## Create Canvas\n",
    "sns.set(style='white')\n",
    "sns.despine(left=True)\n",
    "plt.figure(figsize=(6,6))\n",
    "\n",
    "# Create plot\n",
    "sns.distplot(test_data['TOT_SALES'],hist=False,kde_kws={'shade':True},color='Orange')\n",
    "\n",
    "# add vertical line\n",
    "plt.axvline(test_data['TOT_SALES'].median(),\n",
    "           ymax=0.95,linestyle='--')\n",
    "\n",
    "# add text\n",
    "plt.text(test_data['TOT_SALES'].median() + 2, 0.14,\n",
    "         # Create text \n",
    "         'Median Sales: ' + str(test_data['TOT_SALES'].median()), \n",
    "         # Set text style\n",
    "         fontsize = 10, \n",
    "         style = \"italic\")\n",
    "\n",
    "#final touches\n",
    "plt.title(\"Distribution of Total Sales\",fontsize=12,fontweight='semibold')\n",
    "plt.show()\n"
   ]
  },
  {
   "cell_type": "markdown",
   "metadata": {},
   "source": [
    "### Investigating Drivers of Sales and Customer Segmentation:"
   ]
  },
  {
   "cell_type": "code",
   "execution_count": 41,
   "metadata": {},
   "outputs": [],
   "source": [
    "df=test_data.pivot_table(index='PREMIUM_CUSTOMER', columns='LIFESTAGE', aggfunc={'TOT_SALES':sum}, dropna=False)\n",
    "df['Total']=df.sum(axis=1)\n",
    "df.loc['Total']=df.sum()"
   ]
  },
  {
   "cell_type": "code",
   "execution_count": 42,
   "metadata": {},
   "outputs": [
    {
     "data": {
      "text/html": [
       "<style  type=\"text/css\" >\n",
       "    #T_564d1d2c_cf51_11ea_8ff9_089e01438b18row0_col0 {\n",
       "            background-color:  #f7fbff;\n",
       "            color:  #000000;\n",
       "        }    #T_564d1d2c_cf51_11ea_8ff9_089e01438b18row0_col1 {\n",
       "            background-color:  #b9d6ea;\n",
       "            color:  #000000;\n",
       "        }    #T_564d1d2c_cf51_11ea_8ff9_089e01438b18row0_col2 {\n",
       "            background-color:  #c8dcf0;\n",
       "            color:  #000000;\n",
       "        }    #T_564d1d2c_cf51_11ea_8ff9_089e01438b18row0_col3 {\n",
       "            background-color:  #e3eef9;\n",
       "            color:  #000000;\n",
       "        }    #T_564d1d2c_cf51_11ea_8ff9_089e01438b18row0_col4 {\n",
       "            background-color:  #eef5fc;\n",
       "            color:  #000000;\n",
       "        }    #T_564d1d2c_cf51_11ea_8ff9_089e01438b18row0_col5 {\n",
       "            background-color:  #c7dbef;\n",
       "            color:  #000000;\n",
       "        }    #T_564d1d2c_cf51_11ea_8ff9_089e01438b18row0_col6 {\n",
       "            background-color:  #eef5fc;\n",
       "            color:  #000000;\n",
       "        }    #T_564d1d2c_cf51_11ea_8ff9_089e01438b18row0_col7 {\n",
       "            background-color:  #e2edf8;\n",
       "            color:  #000000;\n",
       "        }    #T_564d1d2c_cf51_11ea_8ff9_089e01438b18row1_col0 {\n",
       "            background-color:  #a5cde3;\n",
       "            color:  #000000;\n",
       "        }    #T_564d1d2c_cf51_11ea_8ff9_089e01438b18row1_col1 {\n",
       "            background-color:  #f7fbff;\n",
       "            color:  #000000;\n",
       "        }    #T_564d1d2c_cf51_11ea_8ff9_089e01438b18row1_col2 {\n",
       "            background-color:  #eef5fc;\n",
       "            color:  #000000;\n",
       "        }    #T_564d1d2c_cf51_11ea_8ff9_089e01438b18row1_col3 {\n",
       "            background-color:  #f7fbff;\n",
       "            color:  #000000;\n",
       "        }    #T_564d1d2c_cf51_11ea_8ff9_089e01438b18row1_col4 {\n",
       "            background-color:  #d8e7f5;\n",
       "            color:  #000000;\n",
       "        }    #T_564d1d2c_cf51_11ea_8ff9_089e01438b18row1_col5 {\n",
       "            background-color:  #f3f8fe;\n",
       "            color:  #000000;\n",
       "        }    #T_564d1d2c_cf51_11ea_8ff9_089e01438b18row1_col6 {\n",
       "            background-color:  #7fb9da;\n",
       "            color:  #000000;\n",
       "        }    #T_564d1d2c_cf51_11ea_8ff9_089e01438b18row1_col7 {\n",
       "            background-color:  #dfebf7;\n",
       "            color:  #000000;\n",
       "        }    #T_564d1d2c_cf51_11ea_8ff9_089e01438b18row2_col0 {\n",
       "            background-color:  #e3eef8;\n",
       "            color:  #000000;\n",
       "        }    #T_564d1d2c_cf51_11ea_8ff9_089e01438b18row2_col1 {\n",
       "            background-color:  #eef5fc;\n",
       "            color:  #000000;\n",
       "        }    #T_564d1d2c_cf51_11ea_8ff9_089e01438b18row2_col2 {\n",
       "            background-color:  #f7fbff;\n",
       "            color:  #000000;\n",
       "        }    #T_564d1d2c_cf51_11ea_8ff9_089e01438b18row2_col3 {\n",
       "            background-color:  #eef5fc;\n",
       "            color:  #000000;\n",
       "        }    #T_564d1d2c_cf51_11ea_8ff9_089e01438b18row2_col4 {\n",
       "            background-color:  #f7fbff;\n",
       "            color:  #000000;\n",
       "        }    #T_564d1d2c_cf51_11ea_8ff9_089e01438b18row2_col5 {\n",
       "            background-color:  #f7fbff;\n",
       "            color:  #000000;\n",
       "        }    #T_564d1d2c_cf51_11ea_8ff9_089e01438b18row2_col6 {\n",
       "            background-color:  #f7fbff;\n",
       "            color:  #000000;\n",
       "        }    #T_564d1d2c_cf51_11ea_8ff9_089e01438b18row2_col7 {\n",
       "            background-color:  #f7fbff;\n",
       "            color:  #000000;\n",
       "        }    #T_564d1d2c_cf51_11ea_8ff9_089e01438b18row3_col0 {\n",
       "            background-color:  #08306b;\n",
       "            color:  #f1f1f1;\n",
       "        }    #T_564d1d2c_cf51_11ea_8ff9_089e01438b18row3_col1 {\n",
       "            background-color:  #08306b;\n",
       "            color:  #f1f1f1;\n",
       "        }    #T_564d1d2c_cf51_11ea_8ff9_089e01438b18row3_col2 {\n",
       "            background-color:  #08306b;\n",
       "            color:  #f1f1f1;\n",
       "        }    #T_564d1d2c_cf51_11ea_8ff9_089e01438b18row3_col3 {\n",
       "            background-color:  #08306b;\n",
       "            color:  #f1f1f1;\n",
       "        }    #T_564d1d2c_cf51_11ea_8ff9_089e01438b18row3_col4 {\n",
       "            background-color:  #08306b;\n",
       "            color:  #f1f1f1;\n",
       "        }    #T_564d1d2c_cf51_11ea_8ff9_089e01438b18row3_col5 {\n",
       "            background-color:  #08306b;\n",
       "            color:  #f1f1f1;\n",
       "        }    #T_564d1d2c_cf51_11ea_8ff9_089e01438b18row3_col6 {\n",
       "            background-color:  #08306b;\n",
       "            color:  #f1f1f1;\n",
       "        }    #T_564d1d2c_cf51_11ea_8ff9_089e01438b18row3_col7 {\n",
       "            background-color:  #08306b;\n",
       "            color:  #f1f1f1;\n",
       "        }</style><table id=\"T_564d1d2c_cf51_11ea_8ff9_089e01438b18\" ><thead>    <tr>        <th class=\"blank level0\" ></th>        <th class=\"col_heading level0 col0\" colspan=7>TOT_SALES</th>        <th class=\"col_heading level0 col7\" >Total</th>    </tr>    <tr>        <th class=\"index_name level1\" >LIFESTAGE</th>        <th class=\"col_heading level1 col0\" >MIDAGE SINGLES/COUPLES</th>        <th class=\"col_heading level1 col1\" >NEW FAMILIES</th>        <th class=\"col_heading level1 col2\" >OLDER FAMILIES</th>        <th class=\"col_heading level1 col3\" >OLDER SINGLES/COUPLES</th>        <th class=\"col_heading level1 col4\" >RETIREES</th>        <th class=\"col_heading level1 col5\" >YOUNG FAMILIES</th>        <th class=\"col_heading level1 col6\" >YOUNG SINGLES/COUPLES</th>        <th class=\"col_heading level1 col7\" ></th>    </tr>    <tr>        <th class=\"index_name level0\" >PREMIUM_CUSTOMER</th>        <th class=\"blank\" ></th>        <th class=\"blank\" ></th>        <th class=\"blank\" ></th>        <th class=\"blank\" ></th>        <th class=\"blank\" ></th>        <th class=\"blank\" ></th>        <th class=\"blank\" ></th>        <th class=\"blank\" ></th>    </tr></thead><tbody>\n",
       "                <tr>\n",
       "                        <th id=\"T_564d1d2c_cf51_11ea_8ff9_089e01438b18level0_row0\" class=\"row_heading level0 row0\" >Budget</th>\n",
       "                        <td id=\"T_564d1d2c_cf51_11ea_8ff9_089e01438b18row0_col0\" class=\"data row0 col0\" >590.1</td>\n",
       "                        <td id=\"T_564d1d2c_cf51_11ea_8ff9_089e01438b18row0_col1\" class=\"data row0 col1\" >363.9</td>\n",
       "                        <td id=\"T_564d1d2c_cf51_11ea_8ff9_089e01438b18row0_col2\" class=\"data row0 col2\" >2045.5</td>\n",
       "                        <td id=\"T_564d1d2c_cf51_11ea_8ff9_089e01438b18row0_col3\" class=\"data row0 col3\" >1959.7</td>\n",
       "                        <td id=\"T_564d1d2c_cf51_11ea_8ff9_089e01438b18row0_col4\" class=\"data row0 col4\" >1583.5</td>\n",
       "                        <td id=\"T_564d1d2c_cf51_11ea_8ff9_089e01438b18row0_col5\" class=\"data row0 col5\" >1954</td>\n",
       "                        <td id=\"T_564d1d2c_cf51_11ea_8ff9_089e01438b18row0_col6\" class=\"data row0 col6\" >792.4</td>\n",
       "                        <td id=\"T_564d1d2c_cf51_11ea_8ff9_089e01438b18row0_col7\" class=\"data row0 col7\" >9289.1</td>\n",
       "            </tr>\n",
       "            <tr>\n",
       "                        <th id=\"T_564d1d2c_cf51_11ea_8ff9_089e01438b18level0_row1\" class=\"row_heading level0 row1\" >Mainstream</th>\n",
       "                        <td id=\"T_564d1d2c_cf51_11ea_8ff9_089e01438b18row1_col0\" class=\"data row1 col0\" >1354.6</td>\n",
       "                        <td id=\"T_564d1d2c_cf51_11ea_8ff9_089e01438b18row1_col1\" class=\"data row1 col1\" >193.8</td>\n",
       "                        <td id=\"T_564d1d2c_cf51_11ea_8ff9_089e01438b18row1_col2\" class=\"data row1 col2\" >1378.2</td>\n",
       "                        <td id=\"T_564d1d2c_cf51_11ea_8ff9_089e01438b18row1_col3\" class=\"data row1 col3\" >1590.7</td>\n",
       "                        <td id=\"T_564d1d2c_cf51_11ea_8ff9_089e01438b18row1_col4\" class=\"data row1 col4\" >1982</td>\n",
       "                        <td id=\"T_564d1d2c_cf51_11ea_8ff9_089e01438b18row1_col5\" class=\"data row1 col5\" >1228.7</td>\n",
       "                        <td id=\"T_564d1d2c_cf51_11ea_8ff9_089e01438b18row1_col6\" class=\"data row1 col6\" >1856.5</td>\n",
       "                        <td id=\"T_564d1d2c_cf51_11ea_8ff9_089e01438b18row1_col7\" class=\"data row1 col7\" >9584.5</td>\n",
       "            </tr>\n",
       "            <tr>\n",
       "                        <th id=\"T_564d1d2c_cf51_11ea_8ff9_089e01438b18level0_row2\" class=\"row_heading level0 row2\" >Premium</th>\n",
       "                        <td id=\"T_564d1d2c_cf51_11ea_8ff9_089e01438b18row2_col0\" class=\"data row2 col0\" >815.3</td>\n",
       "                        <td id=\"T_564d1d2c_cf51_11ea_8ff9_089e01438b18row2_col1\" class=\"data row2 col1\" >222.2</td>\n",
       "                        <td id=\"T_564d1d2c_cf51_11ea_8ff9_089e01438b18row2_col2\" class=\"data row2 col2\" >1222</td>\n",
       "                        <td id=\"T_564d1d2c_cf51_11ea_8ff9_089e01438b18row2_col3\" class=\"data row2 col3\" >1778.4</td>\n",
       "                        <td id=\"T_564d1d2c_cf51_11ea_8ff9_089e01438b18row2_col4\" class=\"data row2 col4\" >1422.1</td>\n",
       "                        <td id=\"T_564d1d2c_cf51_11ea_8ff9_089e01438b18row2_col5\" class=\"data row2 col5\" >1162.6</td>\n",
       "                        <td id=\"T_564d1d2c_cf51_11ea_8ff9_089e01438b18row2_col6\" class=\"data row2 col6\" >659.9</td>\n",
       "                        <td id=\"T_564d1d2c_cf51_11ea_8ff9_089e01438b18row2_col7\" class=\"data row2 col7\" >7282.5</td>\n",
       "            </tr>\n",
       "            <tr>\n",
       "                        <th id=\"T_564d1d2c_cf51_11ea_8ff9_089e01438b18level0_row3\" class=\"row_heading level0 row3\" >Total</th>\n",
       "                        <td id=\"T_564d1d2c_cf51_11ea_8ff9_089e01438b18row3_col0\" class=\"data row3 col0\" >2760</td>\n",
       "                        <td id=\"T_564d1d2c_cf51_11ea_8ff9_089e01438b18row3_col1\" class=\"data row3 col1\" >779.9</td>\n",
       "                        <td id=\"T_564d1d2c_cf51_11ea_8ff9_089e01438b18row3_col2\" class=\"data row3 col2\" >4645.7</td>\n",
       "                        <td id=\"T_564d1d2c_cf51_11ea_8ff9_089e01438b18row3_col3\" class=\"data row3 col3\" >5328.8</td>\n",
       "                        <td id=\"T_564d1d2c_cf51_11ea_8ff9_089e01438b18row3_col4\" class=\"data row3 col4\" >4987.6</td>\n",
       "                        <td id=\"T_564d1d2c_cf51_11ea_8ff9_089e01438b18row3_col5\" class=\"data row3 col5\" >4345.3</td>\n",
       "                        <td id=\"T_564d1d2c_cf51_11ea_8ff9_089e01438b18row3_col6\" class=\"data row3 col6\" >3308.8</td>\n",
       "                        <td id=\"T_564d1d2c_cf51_11ea_8ff9_089e01438b18row3_col7\" class=\"data row3 col7\" >26156.1</td>\n",
       "            </tr>\n",
       "    </tbody></table>"
      ],
      "text/plain": [
       "<pandas.io.formats.style.Styler at 0x2094fc5ff28>"
      ]
     },
     "execution_count": 42,
     "metadata": {},
     "output_type": "execute_result"
    }
   ],
   "source": [
    "df.style.background_gradient(cmap='Blues')"
   ]
  },
  {
   "cell_type": "code",
   "execution_count": 43,
   "metadata": {},
   "outputs": [
    {
     "data": {
      "text/html": [
       "<style  type=\"text/css\" >\n",
       "    #T_567aaa02_cf51_11ea_ae39_089e01438b18row0_col0 {\n",
       "            background-color:  #fff1ea;\n",
       "            color:  #000000;\n",
       "        }    #T_567aaa02_cf51_11ea_ae39_089e01438b18row0_col1 {\n",
       "            background-color:  #fff5f0;\n",
       "            color:  #000000;\n",
       "        }    #T_567aaa02_cf51_11ea_ae39_089e01438b18row0_col2 {\n",
       "            background-color:  #fdcdb9;\n",
       "            color:  #000000;\n",
       "        }    #T_567aaa02_cf51_11ea_ae39_089e01438b18row0_col3 {\n",
       "            background-color:  #fdd1be;\n",
       "            color:  #000000;\n",
       "        }    #T_567aaa02_cf51_11ea_ae39_089e01438b18row0_col4 {\n",
       "            background-color:  #fedecf;\n",
       "            color:  #000000;\n",
       "        }    #T_567aaa02_cf51_11ea_ae39_089e01438b18row0_col5 {\n",
       "            background-color:  #fdd1be;\n",
       "            color:  #000000;\n",
       "        }    #T_567aaa02_cf51_11ea_ae39_089e01438b18row0_col6 {\n",
       "            background-color:  #ffede5;\n",
       "            color:  #000000;\n",
       "        }    #T_567aaa02_cf51_11ea_ae39_089e01438b18row0_col7 {\n",
       "            background-color:  #67000d;\n",
       "            color:  #f1f1f1;\n",
       "        }    #T_567aaa02_cf51_11ea_ae39_089e01438b18row1_col0 {\n",
       "            background-color:  #fee1d3;\n",
       "            color:  #000000;\n",
       "        }    #T_567aaa02_cf51_11ea_ae39_089e01438b18row1_col1 {\n",
       "            background-color:  #fff5f0;\n",
       "            color:  #000000;\n",
       "        }    #T_567aaa02_cf51_11ea_ae39_089e01438b18row1_col2 {\n",
       "            background-color:  #fee0d2;\n",
       "            color:  #000000;\n",
       "        }    #T_567aaa02_cf51_11ea_ae39_089e01438b18row1_col3 {\n",
       "            background-color:  #fed9c9;\n",
       "            color:  #000000;\n",
       "        }    #T_567aaa02_cf51_11ea_ae39_089e01438b18row1_col4 {\n",
       "            background-color:  #fdcdb9;\n",
       "            color:  #000000;\n",
       "        }    #T_567aaa02_cf51_11ea_ae39_089e01438b18row1_col5 {\n",
       "            background-color:  #fee3d6;\n",
       "            color:  #000000;\n",
       "        }    #T_567aaa02_cf51_11ea_ae39_089e01438b18row1_col6 {\n",
       "            background-color:  #fdd1be;\n",
       "            color:  #000000;\n",
       "        }    #T_567aaa02_cf51_11ea_ae39_089e01438b18row1_col7 {\n",
       "            background-color:  #67000d;\n",
       "            color:  #f1f1f1;\n",
       "        }    #T_567aaa02_cf51_11ea_ae39_089e01438b18row2_col0 {\n",
       "            background-color:  #fee7dc;\n",
       "            color:  #000000;\n",
       "        }    #T_567aaa02_cf51_11ea_ae39_089e01438b18row2_col1 {\n",
       "            background-color:  #fff5f0;\n",
       "            color:  #000000;\n",
       "        }    #T_567aaa02_cf51_11ea_ae39_089e01438b18row2_col2 {\n",
       "            background-color:  #fedbcc;\n",
       "            color:  #000000;\n",
       "        }    #T_567aaa02_cf51_11ea_ae39_089e01438b18row2_col3 {\n",
       "            background-color:  #fcc4ad;\n",
       "            color:  #000000;\n",
       "        }    #T_567aaa02_cf51_11ea_ae39_089e01438b18row2_col4 {\n",
       "            background-color:  #fdd3c1;\n",
       "            color:  #000000;\n",
       "        }    #T_567aaa02_cf51_11ea_ae39_089e01438b18row2_col5 {\n",
       "            background-color:  #fedecf;\n",
       "            color:  #000000;\n",
       "        }    #T_567aaa02_cf51_11ea_ae39_089e01438b18row2_col6 {\n",
       "            background-color:  #ffebe2;\n",
       "            color:  #000000;\n",
       "        }    #T_567aaa02_cf51_11ea_ae39_089e01438b18row2_col7 {\n",
       "            background-color:  #67000d;\n",
       "            color:  #f1f1f1;\n",
       "        }    #T_567aaa02_cf51_11ea_ae39_089e01438b18row3_col0 {\n",
       "            background-color:  #fee8de;\n",
       "            color:  #000000;\n",
       "        }    #T_567aaa02_cf51_11ea_ae39_089e01438b18row3_col1 {\n",
       "            background-color:  #fff5f0;\n",
       "            color:  #000000;\n",
       "        }    #T_567aaa02_cf51_11ea_ae39_089e01438b18row3_col2 {\n",
       "            background-color:  #fed9c9;\n",
       "            color:  #000000;\n",
       "        }    #T_567aaa02_cf51_11ea_ae39_089e01438b18row3_col3 {\n",
       "            background-color:  #fdd1be;\n",
       "            color:  #000000;\n",
       "        }    #T_567aaa02_cf51_11ea_ae39_089e01438b18row3_col4 {\n",
       "            background-color:  #fdd4c2;\n",
       "            color:  #000000;\n",
       "        }    #T_567aaa02_cf51_11ea_ae39_089e01438b18row3_col5 {\n",
       "            background-color:  #fedccd;\n",
       "            color:  #000000;\n",
       "        }    #T_567aaa02_cf51_11ea_ae39_089e01438b18row3_col6 {\n",
       "            background-color:  #fee5d8;\n",
       "            color:  #000000;\n",
       "        }    #T_567aaa02_cf51_11ea_ae39_089e01438b18row3_col7 {\n",
       "            background-color:  #67000d;\n",
       "            color:  #f1f1f1;\n",
       "        }</style><table id=\"T_567aaa02_cf51_11ea_ae39_089e01438b18\" ><thead>    <tr>        <th class=\"blank level0\" ></th>        <th class=\"col_heading level0 col0\" colspan=7>TOT_SALES</th>        <th class=\"col_heading level0 col7\" >Total</th>    </tr>    <tr>        <th class=\"index_name level1\" >LIFESTAGE</th>        <th class=\"col_heading level1 col0\" >MIDAGE SINGLES/COUPLES</th>        <th class=\"col_heading level1 col1\" >NEW FAMILIES</th>        <th class=\"col_heading level1 col2\" >OLDER FAMILIES</th>        <th class=\"col_heading level1 col3\" >OLDER SINGLES/COUPLES</th>        <th class=\"col_heading level1 col4\" >RETIREES</th>        <th class=\"col_heading level1 col5\" >YOUNG FAMILIES</th>        <th class=\"col_heading level1 col6\" >YOUNG SINGLES/COUPLES</th>        <th class=\"col_heading level1 col7\" ></th>    </tr>    <tr>        <th class=\"index_name level0\" >PREMIUM_CUSTOMER</th>        <th class=\"blank\" ></th>        <th class=\"blank\" ></th>        <th class=\"blank\" ></th>        <th class=\"blank\" ></th>        <th class=\"blank\" ></th>        <th class=\"blank\" ></th>        <th class=\"blank\" ></th>        <th class=\"blank\" ></th>    </tr></thead><tbody>\n",
       "                <tr>\n",
       "                        <th id=\"T_567aaa02_cf51_11ea_ae39_089e01438b18level0_row0\" class=\"row_heading level0 row0\" >Budget</th>\n",
       "                        <td id=\"T_567aaa02_cf51_11ea_ae39_089e01438b18row0_col0\" class=\"data row0 col0\" >590.1</td>\n",
       "                        <td id=\"T_567aaa02_cf51_11ea_ae39_089e01438b18row0_col1\" class=\"data row0 col1\" >363.9</td>\n",
       "                        <td id=\"T_567aaa02_cf51_11ea_ae39_089e01438b18row0_col2\" class=\"data row0 col2\" >2045.5</td>\n",
       "                        <td id=\"T_567aaa02_cf51_11ea_ae39_089e01438b18row0_col3\" class=\"data row0 col3\" >1959.7</td>\n",
       "                        <td id=\"T_567aaa02_cf51_11ea_ae39_089e01438b18row0_col4\" class=\"data row0 col4\" >1583.5</td>\n",
       "                        <td id=\"T_567aaa02_cf51_11ea_ae39_089e01438b18row0_col5\" class=\"data row0 col5\" >1954</td>\n",
       "                        <td id=\"T_567aaa02_cf51_11ea_ae39_089e01438b18row0_col6\" class=\"data row0 col6\" >792.4</td>\n",
       "                        <td id=\"T_567aaa02_cf51_11ea_ae39_089e01438b18row0_col7\" class=\"data row0 col7\" >9289.1</td>\n",
       "            </tr>\n",
       "            <tr>\n",
       "                        <th id=\"T_567aaa02_cf51_11ea_ae39_089e01438b18level0_row1\" class=\"row_heading level0 row1\" >Mainstream</th>\n",
       "                        <td id=\"T_567aaa02_cf51_11ea_ae39_089e01438b18row1_col0\" class=\"data row1 col0\" >1354.6</td>\n",
       "                        <td id=\"T_567aaa02_cf51_11ea_ae39_089e01438b18row1_col1\" class=\"data row1 col1\" >193.8</td>\n",
       "                        <td id=\"T_567aaa02_cf51_11ea_ae39_089e01438b18row1_col2\" class=\"data row1 col2\" >1378.2</td>\n",
       "                        <td id=\"T_567aaa02_cf51_11ea_ae39_089e01438b18row1_col3\" class=\"data row1 col3\" >1590.7</td>\n",
       "                        <td id=\"T_567aaa02_cf51_11ea_ae39_089e01438b18row1_col4\" class=\"data row1 col4\" >1982</td>\n",
       "                        <td id=\"T_567aaa02_cf51_11ea_ae39_089e01438b18row1_col5\" class=\"data row1 col5\" >1228.7</td>\n",
       "                        <td id=\"T_567aaa02_cf51_11ea_ae39_089e01438b18row1_col6\" class=\"data row1 col6\" >1856.5</td>\n",
       "                        <td id=\"T_567aaa02_cf51_11ea_ae39_089e01438b18row1_col7\" class=\"data row1 col7\" >9584.5</td>\n",
       "            </tr>\n",
       "            <tr>\n",
       "                        <th id=\"T_567aaa02_cf51_11ea_ae39_089e01438b18level0_row2\" class=\"row_heading level0 row2\" >Premium</th>\n",
       "                        <td id=\"T_567aaa02_cf51_11ea_ae39_089e01438b18row2_col0\" class=\"data row2 col0\" >815.3</td>\n",
       "                        <td id=\"T_567aaa02_cf51_11ea_ae39_089e01438b18row2_col1\" class=\"data row2 col1\" >222.2</td>\n",
       "                        <td id=\"T_567aaa02_cf51_11ea_ae39_089e01438b18row2_col2\" class=\"data row2 col2\" >1222</td>\n",
       "                        <td id=\"T_567aaa02_cf51_11ea_ae39_089e01438b18row2_col3\" class=\"data row2 col3\" >1778.4</td>\n",
       "                        <td id=\"T_567aaa02_cf51_11ea_ae39_089e01438b18row2_col4\" class=\"data row2 col4\" >1422.1</td>\n",
       "                        <td id=\"T_567aaa02_cf51_11ea_ae39_089e01438b18row2_col5\" class=\"data row2 col5\" >1162.6</td>\n",
       "                        <td id=\"T_567aaa02_cf51_11ea_ae39_089e01438b18row2_col6\" class=\"data row2 col6\" >659.9</td>\n",
       "                        <td id=\"T_567aaa02_cf51_11ea_ae39_089e01438b18row2_col7\" class=\"data row2 col7\" >7282.5</td>\n",
       "            </tr>\n",
       "            <tr>\n",
       "                        <th id=\"T_567aaa02_cf51_11ea_ae39_089e01438b18level0_row3\" class=\"row_heading level0 row3\" >Total</th>\n",
       "                        <td id=\"T_567aaa02_cf51_11ea_ae39_089e01438b18row3_col0\" class=\"data row3 col0\" >2760</td>\n",
       "                        <td id=\"T_567aaa02_cf51_11ea_ae39_089e01438b18row3_col1\" class=\"data row3 col1\" >779.9</td>\n",
       "                        <td id=\"T_567aaa02_cf51_11ea_ae39_089e01438b18row3_col2\" class=\"data row3 col2\" >4645.7</td>\n",
       "                        <td id=\"T_567aaa02_cf51_11ea_ae39_089e01438b18row3_col3\" class=\"data row3 col3\" >5328.8</td>\n",
       "                        <td id=\"T_567aaa02_cf51_11ea_ae39_089e01438b18row3_col4\" class=\"data row3 col4\" >4987.6</td>\n",
       "                        <td id=\"T_567aaa02_cf51_11ea_ae39_089e01438b18row3_col5\" class=\"data row3 col5\" >4345.3</td>\n",
       "                        <td id=\"T_567aaa02_cf51_11ea_ae39_089e01438b18row3_col6\" class=\"data row3 col6\" >3308.8</td>\n",
       "                        <td id=\"T_567aaa02_cf51_11ea_ae39_089e01438b18row3_col7\" class=\"data row3 col7\" >26156.1</td>\n",
       "            </tr>\n",
       "    </tbody></table>"
      ],
      "text/plain": [
       "<pandas.io.formats.style.Styler at 0x2094f9f1e80>"
      ]
     },
     "execution_count": 43,
     "metadata": {},
     "output_type": "execute_result"
    }
   ],
   "source": [
    "df.style.background_gradient(cmap='Reds',axis=1)"
   ]
  },
  {
   "cell_type": "code",
   "execution_count": 44,
   "metadata": {},
   "outputs": [
    {
     "data": {
      "image/png": "[encoded data removed]",
      "text/plain": [
       "<Figure size 1080x720 with 1 Axes>"
      ]
     },
     "metadata": {},
     "output_type": "display_data"
    }
   ],
   "source": [
    "# Set initial plot options\n",
    "sns.set_style('white')\n",
    "\n",
    "# Create figure and axes\n",
    "plt.figure(figsize=(15,10))\n",
    "\n",
    "# Create plot \n",
    "sns.countplot(x='LIFESTAGE',\n",
    "              # Group by \n",
    "              hue = 'PREMIUM_CUSTOMER', \n",
    "              data=test_data,\n",
    "              order=['YOUNG FAMILIES','YOUNG SINGLES/COUPLES',\"NEW FAMILIES\",\"MIDAGE SINGLES/COUPLES\",'OLDER FAMILIES',\n",
    "                    'OLDER SINGLES/COUPLES','RETIREES'],\n",
    "              # Set colour of hue and transperency\n",
    "              palette = [\"red\",\"skyblue\",'orange'],\n",
    "              alpha = 0.8)\n",
    "\n",
    "\n",
    "# Despine visualizations\n",
    "sns.despine(left = True)\n",
    "# Figure final formatting \n",
    "plt.xticks(rotation=45)\n",
    "plt.title('TOTAL SALES: Lifestage and customer segmentation wise', fontsize = 14, fontweight = \"semibold\")\n",
    "plt.legend(loc='best')\n",
    "plt.show()"
   ]
  },
  {
   "cell_type": "markdown",
   "metadata": {},
   "source": [
    "__OLDER SINGLES/COUPLES: Highest in Premium Segment__\n",
    "\n",
    "__Retirees: Highest in Mainstream Segment__\n",
    "\n",
    "__OLDER FAMILIES: Highest in Budget Segement__"
   ]
  },
  {
   "cell_type": "markdown",
   "metadata": {},
   "source": [
    "### Size of Packet/Weight:"
   ]
  },
  {
   "cell_type": "code",
   "execution_count": 120,
   "metadata": {},
   "outputs": [
    {
     "data": {
      "text/plain": [
       "<matplotlib.collections.PathCollection at 0x19a5a68c240>"
      ]
     },
     "execution_count": 120,
     "metadata": {},
     "output_type": "execute_result"
    },
    {
     "data": {
      "image/png": "[encoded data removed]",
      "text/plain": [
       "<Figure size 432x288 with 1 Axes>"
      ]
     },
     "metadata": {},
     "output_type": "display_data"
    }
   ],
   "source": [
    "plt.scatter(test_data['Weight'],test_data['TOT_SALES'])"
   ]
  },
  {
   "cell_type": "code",
   "execution_count": 121,
   "metadata": {},
   "outputs": [],
   "source": [
    "df_weight=pd.DataFrame(test_data.groupby('Weight')['TOT_SALES'].sum().sort_values())"
   ]
  },
  {
   "cell_type": "code",
   "execution_count": 122,
   "metadata": {},
   "outputs": [],
   "source": [
    "df_weight=df_weight.reset_index()"
   ]
  },
  {
   "cell_type": "code",
   "execution_count": 123,
   "metadata": {},
   "outputs": [],
   "source": [
    "df_weight.Weight=df_weight.Weight.astype('float')"
   ]
  },
  {
   "cell_type": "code",
   "execution_count": 124,
   "metadata": {},
   "outputs": [
    {
     "data": {
      "text/plain": [
       "142.25"
      ]
     },
     "execution_count": 124,
     "metadata": {},
     "output_type": "execute_result"
    }
   ],
   "source": [
    "df_weight[df_weight['TOT_SALES'] > df_weight['TOT_SALES'].quantile(q=0.80) ].Weight.mean()"
   ]
  },
  {
   "cell_type": "markdown",
   "metadata": {},
   "source": [
    "### Store-wise Sales"
   ]
  },
  {
   "cell_type": "code",
   "execution_count": 125,
   "metadata": {},
   "outputs": [
    {
     "data": {
      "text/html": [
       "<div>\n",
       "<style scoped>\n",
       "    .dataframe tbody tr th:only-of-type {\n",
       "        vertical-align: middle;\n",
       "    }\n",
       "\n",
       "    .dataframe tbody tr th {\n",
       "        vertical-align: top;\n",
       "    }\n",
       "\n",
       "    .dataframe thead th {\n",
       "        text-align: right;\n",
       "    }\n",
       "</style>\n",
       "<table border=\"1\" class=\"dataframe\">\n",
       "  <thead>\n",
       "    <tr style=\"text-align: right;\">\n",
       "      <th></th>\n",
       "      <th>TOT_SALES</th>\n",
       "    </tr>\n",
       "    <tr>\n",
       "      <th>STORE_NBR</th>\n",
       "      <th></th>\n",
       "    </tr>\n",
       "  </thead>\n",
       "  <tbody>\n",
       "    <tr>\n",
       "      <th>1</th>\n",
       "      <td>28.1</td>\n",
       "    </tr>\n",
       "    <tr>\n",
       "      <th>2</th>\n",
       "      <td>51.9</td>\n",
       "    </tr>\n",
       "    <tr>\n",
       "      <th>3</th>\n",
       "      <td>220.8</td>\n",
       "    </tr>\n",
       "    <tr>\n",
       "      <th>4</th>\n",
       "      <td>278.9</td>\n",
       "    </tr>\n",
       "    <tr>\n",
       "      <th>5</th>\n",
       "      <td>138.8</td>\n",
       "    </tr>\n",
       "  </tbody>\n",
       "</table>\n",
       "</div>"
      ],
      "text/plain": [
       "           TOT_SALES\n",
       "STORE_NBR           \n",
       "1               28.1\n",
       "2               51.9\n",
       "3              220.8\n",
       "4              278.9\n",
       "5              138.8"
      ]
     },
     "execution_count": 125,
     "metadata": {},
     "output_type": "execute_result"
    }
   ],
   "source": [
    "store_wise_sales=pd.DataFrame(test_data.groupby(by=['STORE_NBR'])['TOT_SALES'].sum())\n",
    "store_wise_sales.head()"
   ]
  },
  {
   "cell_type": "code",
   "execution_count": 126,
   "metadata": {},
   "outputs": [
    {
     "data": {
      "text/plain": [
       "TOT_SALES    218.2\n",
       "Name: 0.95, dtype: float64"
      ]
     },
     "execution_count": 126,
     "metadata": {},
     "output_type": "execute_result"
    }
   ],
   "source": [
    "store_wise_sales.quantile(0.95)"
   ]
  },
  {
   "cell_type": "code",
   "execution_count": 127,
   "metadata": {},
   "outputs": [
    {
     "data": {
      "text/html": [
       "<div>\n",
       "<style scoped>\n",
       "    .dataframe tbody tr th:only-of-type {\n",
       "        vertical-align: middle;\n",
       "    }\n",
       "\n",
       "    .dataframe tbody tr th {\n",
       "        vertical-align: top;\n",
       "    }\n",
       "\n",
       "    .dataframe thead th {\n",
       "        text-align: right;\n",
       "    }\n",
       "</style>\n",
       "<table border=\"1\" class=\"dataframe\">\n",
       "  <thead>\n",
       "    <tr style=\"text-align: right;\">\n",
       "      <th></th>\n",
       "      <th>STORE_NBR</th>\n",
       "      <th>TOT_SALES</th>\n",
       "    </tr>\n",
       "  </thead>\n",
       "  <tbody>\n",
       "    <tr>\n",
       "      <th>0</th>\n",
       "      <td>3</td>\n",
       "      <td>220.8</td>\n",
       "    </tr>\n",
       "    <tr>\n",
       "      <th>1</th>\n",
       "      <td>4</td>\n",
       "      <td>278.9</td>\n",
       "    </tr>\n",
       "    <tr>\n",
       "      <th>2</th>\n",
       "      <td>40</td>\n",
       "      <td>246.4</td>\n",
       "    </tr>\n",
       "    <tr>\n",
       "      <th>3</th>\n",
       "      <td>58</td>\n",
       "      <td>338.0</td>\n",
       "    </tr>\n",
       "    <tr>\n",
       "      <th>4</th>\n",
       "      <td>60</td>\n",
       "      <td>222.8</td>\n",
       "    </tr>\n",
       "    <tr>\n",
       "      <th>5</th>\n",
       "      <td>79</td>\n",
       "      <td>231.1</td>\n",
       "    </tr>\n",
       "    <tr>\n",
       "      <th>6</th>\n",
       "      <td>123</td>\n",
       "      <td>238.4</td>\n",
       "    </tr>\n",
       "    <tr>\n",
       "      <th>7</th>\n",
       "      <td>133</td>\n",
       "      <td>222.4</td>\n",
       "    </tr>\n",
       "    <tr>\n",
       "      <th>8</th>\n",
       "      <td>165</td>\n",
       "      <td>290.2</td>\n",
       "    </tr>\n",
       "    <tr>\n",
       "      <th>9</th>\n",
       "      <td>166</td>\n",
       "      <td>220.3</td>\n",
       "    </tr>\n",
       "    <tr>\n",
       "      <th>10</th>\n",
       "      <td>184</td>\n",
       "      <td>218.4</td>\n",
       "    </tr>\n",
       "    <tr>\n",
       "      <th>11</th>\n",
       "      <td>217</td>\n",
       "      <td>261.0</td>\n",
       "    </tr>\n",
       "    <tr>\n",
       "      <th>12</th>\n",
       "      <td>237</td>\n",
       "      <td>220.0</td>\n",
       "    </tr>\n",
       "  </tbody>\n",
       "</table>\n",
       "</div>"
      ],
      "text/plain": [
       "    STORE_NBR  TOT_SALES\n",
       "0           3      220.8\n",
       "1           4      278.9\n",
       "2          40      246.4\n",
       "3          58      338.0\n",
       "4          60      222.8\n",
       "5          79      231.1\n",
       "6         123      238.4\n",
       "7         133      222.4\n",
       "8         165      290.2\n",
       "9         166      220.3\n",
       "10        184      218.4\n",
       "11        217      261.0\n",
       "12        237      220.0"
      ]
     },
     "execution_count": 127,
     "metadata": {},
     "output_type": "execute_result"
    }
   ],
   "source": [
    "# Stores with top 5% sales\n",
    "top_stores=store_wise_sales[store_wise_sales['TOT_SALES'] > 218.2].reset_index()\n",
    "top_stores"
   ]
  },
  {
   "cell_type": "code",
   "execution_count": 128,
   "metadata": {},
   "outputs": [
    {
     "data": {
      "text/plain": [
       "TOT_SALES    12.95\n",
       "Name: 0.05, dtype: float64"
      ]
     },
     "execution_count": 128,
     "metadata": {},
     "output_type": "execute_result"
    }
   ],
   "source": [
    "store_wise_sales.quantile(0.05)"
   ]
  },
  {
   "cell_type": "code",
   "execution_count": 129,
   "metadata": {},
   "outputs": [
    {
     "data": {
      "text/html": [
       "<div>\n",
       "<style scoped>\n",
       "    .dataframe tbody tr th:only-of-type {\n",
       "        vertical-align: middle;\n",
       "    }\n",
       "\n",
       "    .dataframe tbody tr th {\n",
       "        vertical-align: top;\n",
       "    }\n",
       "\n",
       "    .dataframe thead th {\n",
       "        text-align: right;\n",
       "    }\n",
       "</style>\n",
       "<table border=\"1\" class=\"dataframe\">\n",
       "  <thead>\n",
       "    <tr style=\"text-align: right;\">\n",
       "      <th></th>\n",
       "      <th>STORE_NBR</th>\n",
       "      <th>TOT_SALES</th>\n",
       "    </tr>\n",
       "  </thead>\n",
       "  <tbody>\n",
       "    <tr>\n",
       "      <th>0</th>\n",
       "      <td>14</td>\n",
       "      <td>3.4</td>\n",
       "    </tr>\n",
       "    <tr>\n",
       "      <th>1</th>\n",
       "      <td>16</td>\n",
       "      <td>6.4</td>\n",
       "    </tr>\n",
       "    <tr>\n",
       "      <th>2</th>\n",
       "      <td>44</td>\n",
       "      <td>9.2</td>\n",
       "    </tr>\n",
       "    <tr>\n",
       "      <th>3</th>\n",
       "      <td>85</td>\n",
       "      <td>10.9</td>\n",
       "    </tr>\n",
       "    <tr>\n",
       "      <th>4</th>\n",
       "      <td>99</td>\n",
       "      <td>6.3</td>\n",
       "    </tr>\n",
       "    <tr>\n",
       "      <th>5</th>\n",
       "      <td>127</td>\n",
       "      <td>8.8</td>\n",
       "    </tr>\n",
       "    <tr>\n",
       "      <th>6</th>\n",
       "      <td>131</td>\n",
       "      <td>12.9</td>\n",
       "    </tr>\n",
       "    <tr>\n",
       "      <th>7</th>\n",
       "      <td>139</td>\n",
       "      <td>5.3</td>\n",
       "    </tr>\n",
       "    <tr>\n",
       "      <th>8</th>\n",
       "      <td>158</td>\n",
       "      <td>5.2</td>\n",
       "    </tr>\n",
       "    <tr>\n",
       "      <th>9</th>\n",
       "      <td>159</td>\n",
       "      <td>5.4</td>\n",
       "    </tr>\n",
       "    <tr>\n",
       "      <th>10</th>\n",
       "      <td>189</td>\n",
       "      <td>8.5</td>\n",
       "    </tr>\n",
       "    <tr>\n",
       "      <th>11</th>\n",
       "      <td>218</td>\n",
       "      <td>10.2</td>\n",
       "    </tr>\n",
       "    <tr>\n",
       "      <th>12</th>\n",
       "      <td>258</td>\n",
       "      <td>10.2</td>\n",
       "    </tr>\n",
       "  </tbody>\n",
       "</table>\n",
       "</div>"
      ],
      "text/plain": [
       "    STORE_NBR  TOT_SALES\n",
       "0          14        3.4\n",
       "1          16        6.4\n",
       "2          44        9.2\n",
       "3          85       10.9\n",
       "4          99        6.3\n",
       "5         127        8.8\n",
       "6         131       12.9\n",
       "7         139        5.3\n",
       "8         158        5.2\n",
       "9         159        5.4\n",
       "10        189        8.5\n",
       "11        218       10.2\n",
       "12        258       10.2"
      ]
     },
     "execution_count": 129,
     "metadata": {},
     "output_type": "execute_result"
    }
   ],
   "source": [
    "#stores with bottom 5 % sales\n",
    "bottom_stores=store_wise_sales[store_wise_sales['TOT_SALES'] < 12.95].reset_index()\n",
    "bottom_stores"
   ]
  },
  {
   "cell_type": "markdown",
   "metadata": {},
   "source": [
    "### Date and total Sales:"
   ]
  },
  {
   "cell_type": "code",
   "execution_count": 130,
   "metadata": {},
   "outputs": [
    {
     "data": {
      "text/plain": [
       "[<matplotlib.lines.Line2D at 0x19a569f2f98>]"
      ]
     },
     "execution_count": 130,
     "metadata": {},
     "output_type": "execute_result"
    },
    {
     "data": {
      "image/png": "[encoded data removed]",
      "text/plain": [
       "<Figure size 432x288 with 1 Axes>"
      ]
     },
     "metadata": {},
     "output_type": "display_data"
    }
   ],
   "source": [
    "plt.plot(test_data['DATE'],test_data['TOT_SALES'])"
   ]
  },
  {
   "cell_type": "markdown",
   "metadata": {},
   "source": [
    "This is because Excel stores dates as sequential serial numbers, so that they can be used in calculations. By default, January 1, 1900, is serial number 1, and July 1, 2018, is serial number 43282 (indicating the number of days since 1/1/1900)."
   ]
  },
  {
   "cell_type": "markdown",
   "metadata": {},
   "source": [
    "### Product wise Sales:"
   ]
  },
  {
   "cell_type": "code",
   "execution_count": 132,
   "metadata": {},
   "outputs": [
    {
     "data": {
      "text/html": [
       "<div>\n",
       "<style scoped>\n",
       "    .dataframe tbody tr th:only-of-type {\n",
       "        vertical-align: middle;\n",
       "    }\n",
       "\n",
       "    .dataframe tbody tr th {\n",
       "        vertical-align: top;\n",
       "    }\n",
       "\n",
       "    .dataframe thead th {\n",
       "        text-align: right;\n",
       "    }\n",
       "</style>\n",
       "<table border=\"1\" class=\"dataframe\">\n",
       "  <thead>\n",
       "    <tr style=\"text-align: right;\">\n",
       "      <th></th>\n",
       "      <th>TOT_SALES</th>\n",
       "    </tr>\n",
       "    <tr>\n",
       "      <th>Brand</th>\n",
       "      <th></th>\n",
       "    </tr>\n",
       "  </thead>\n",
       "  <tbody>\n",
       "    <tr>\n",
       "      <th>ccs</th>\n",
       "      <td>84.0</td>\n",
       "    </tr>\n",
       "    <tr>\n",
       "      <th>grain</th>\n",
       "      <td>111.6</td>\n",
       "    </tr>\n",
       "    <tr>\n",
       "      <th>smiths</th>\n",
       "      <td>247.0</td>\n",
       "    </tr>\n",
       "    <tr>\n",
       "      <th>infuzions</th>\n",
       "      <td>262.2</td>\n",
       "    </tr>\n",
       "    <tr>\n",
       "      <th>rrd</th>\n",
       "      <td>437.4</td>\n",
       "    </tr>\n",
       "    <tr>\n",
       "      <th>doritos</th>\n",
       "      <td>474.5</td>\n",
       "    </tr>\n",
       "  </tbody>\n",
       "</table>\n",
       "</div>"
      ],
      "text/plain": [
       "           TOT_SALES\n",
       "Brand               \n",
       "ccs             84.0\n",
       "grain          111.6\n",
       "smiths         247.0\n",
       "infuzions      262.2\n",
       "rrd            437.4\n",
       "doritos        474.5"
      ]
     },
     "execution_count": 132,
     "metadata": {},
     "output_type": "execute_result"
    }
   ],
   "source": [
    "# get top and bottom products\n",
    "\n",
    "top_10_prod=pd.DataFrame(test_data.groupby('Brand')['TOT_SALES'].sum().sort_values()[-10:])\n",
    "bot_10_prod=pd.DataFrame(test_data.groupby('Brand')['TOT_SALES'].sum().sort_values()[0:10])\n",
    "top_10_prod"
   ]
  },
  {
   "cell_type": "code",
   "execution_count": 133,
   "metadata": {},
   "outputs": [],
   "source": [
    "store_cross_product_df=pd.DataFrame(test_data.groupby(['STORE_NBR','Brand'])['TOT_SALES'].sum()).sort_values(\n",
    "    ['STORE_NBR','TOT_SALES'],ascending=[True,False])"
   ]
  },
  {
   "cell_type": "code",
   "execution_count": 134,
   "metadata": {},
   "outputs": [
    {
     "data": {
      "text/html": [
       "<div>\n",
       "<style scoped>\n",
       "    .dataframe tbody tr th:only-of-type {\n",
       "        vertical-align: middle;\n",
       "    }\n",
       "\n",
       "    .dataframe tbody tr th {\n",
       "        vertical-align: top;\n",
       "    }\n",
       "\n",
       "    .dataframe thead th {\n",
       "        text-align: right;\n",
       "    }\n",
       "</style>\n",
       "<table border=\"1\" class=\"dataframe\">\n",
       "  <thead>\n",
       "    <tr style=\"text-align: right;\">\n",
       "      <th></th>\n",
       "      <th></th>\n",
       "      <th>TOT_SALES</th>\n",
       "    </tr>\n",
       "    <tr>\n",
       "      <th>STORE_NBR</th>\n",
       "      <th>Brand</th>\n",
       "      <th></th>\n",
       "    </tr>\n",
       "  </thead>\n",
       "  <tbody>\n",
       "    <tr>\n",
       "      <th>2</th>\n",
       "      <th>smiths</th>\n",
       "      <td>2.6</td>\n",
       "    </tr>\n",
       "    <tr>\n",
       "      <th rowspan=\"2\" valign=\"top\">5</th>\n",
       "      <th>doritos</th>\n",
       "      <td>13.0</td>\n",
       "    </tr>\n",
       "    <tr>\n",
       "      <th>smiths</th>\n",
       "      <td>5.2</td>\n",
       "    </tr>\n",
       "    <tr>\n",
       "      <th>7</th>\n",
       "      <th>infuzions</th>\n",
       "      <td>7.6</td>\n",
       "    </tr>\n",
       "    <tr>\n",
       "      <th>8</th>\n",
       "      <th>doritos</th>\n",
       "      <td>13.0</td>\n",
       "    </tr>\n",
       "  </tbody>\n",
       "</table>\n",
       "</div>"
      ],
      "text/plain": [
       "                     TOT_SALES\n",
       "STORE_NBR Brand               \n",
       "2         smiths           2.6\n",
       "5         doritos         13.0\n",
       "          smiths           5.2\n",
       "7         infuzions        7.6\n",
       "8         doritos         13.0"
      ]
     },
     "execution_count": 134,
     "metadata": {},
     "output_type": "execute_result"
    }
   ],
   "source": [
    "store_cross_product_df.head()"
   ]
  },
  {
   "cell_type": "code",
   "execution_count": 135,
   "metadata": {},
   "outputs": [],
   "source": [
    "idx=pd.IndexSlice"
   ]
  },
  {
   "cell_type": "code",
   "execution_count": 136,
   "metadata": {},
   "outputs": [],
   "source": [
    "top_varr=store_cross_product_df.loc[idx[top_stores.index,:],:]"
   ]
  },
  {
   "cell_type": "code",
   "execution_count": 137,
   "metadata": {},
   "outputs": [],
   "source": [
    "top_products_top_stores=top_varr.groupby('Brand').sum().sort_values(by='TOT_SALES',ascending=False).reset_index()"
   ]
  },
  {
   "cell_type": "code",
   "execution_count": 138,
   "metadata": {},
   "outputs": [
    {
     "data": {
      "text/html": [
       "<div>\n",
       "<style scoped>\n",
       "    .dataframe tbody tr th:only-of-type {\n",
       "        vertical-align: middle;\n",
       "    }\n",
       "\n",
       "    .dataframe tbody tr th {\n",
       "        vertical-align: top;\n",
       "    }\n",
       "\n",
       "    .dataframe thead th {\n",
       "        text-align: right;\n",
       "    }\n",
       "</style>\n",
       "<table border=\"1\" class=\"dataframe\">\n",
       "  <thead>\n",
       "    <tr style=\"text-align: right;\">\n",
       "      <th></th>\n",
       "      <th>Brand</th>\n",
       "      <th>TOT_SALES</th>\n",
       "    </tr>\n",
       "  </thead>\n",
       "  <tbody>\n",
       "    <tr>\n",
       "      <th>0</th>\n",
       "      <td>doritos</td>\n",
       "      <td>26.0</td>\n",
       "    </tr>\n",
       "    <tr>\n",
       "      <th>1</th>\n",
       "      <td>smiths</td>\n",
       "      <td>13.0</td>\n",
       "    </tr>\n",
       "    <tr>\n",
       "      <th>2</th>\n",
       "      <td>infuzions</td>\n",
       "      <td>7.6</td>\n",
       "    </tr>\n",
       "  </tbody>\n",
       "</table>\n",
       "</div>"
      ],
      "text/plain": [
       "       Brand  TOT_SALES\n",
       "0    doritos       26.0\n",
       "1     smiths       13.0\n",
       "2  infuzions        7.6"
      ]
     },
     "execution_count": 138,
     "metadata": {},
     "output_type": "execute_result"
    }
   ],
   "source": [
    "top_products_top_stores.head()"
   ]
  },
  {
   "cell_type": "code",
   "execution_count": 141,
   "metadata": {},
   "outputs": [
    {
     "data": {
      "text/plain": [
       "Text(0.5, 1.0, 'TOP Brands at TOP Stores')"
      ]
     },
     "execution_count": 141,
     "metadata": {},
     "output_type": "execute_result"
    },
    {
     "data": {
      "image/png": "[encoded data removed]",
      "text/plain": [
       "<Figure size 1080x720 with 1 Axes>"
      ]
     },
     "metadata": {},
     "output_type": "display_data"
    }
   ],
   "source": [
    "# Set initial plot options\n",
    "sns.set_style('white')\n",
    "\n",
    "# Create figure and axes\n",
    "plt.figure(figsize=(15,10))\n",
    "\n",
    "# Create plot \n",
    "sns.barplot(x='Brand',y='TOT_SALES',\n",
    "              # Group by  \n",
    "              data=top_products_top_stores[0:10],\n",
    "              # Set colour of hue and transperency\n",
    "              alpha = 0.8)\n",
    "\n",
    "plt.xticks(rotation=45)\n",
    "plt.title('TOP Brands at TOP Stores',fontweight=12)"
   ]
  },
  {
   "cell_type": "code",
   "execution_count": 142,
   "metadata": {},
   "outputs": [],
   "source": [
    "bottom_varr=store_cross_product_df.loc[idx[bottom_stores.index,:],:]"
   ]
  },
  {
   "cell_type": "code",
   "execution_count": 143,
   "metadata": {},
   "outputs": [],
   "source": [
    "top_products_bottom_stores=bottom_varr.groupby('Brand').sum().sort_values(by='TOT_SALES',ascending=False).reset_index()"
   ]
  },
  {
   "cell_type": "code",
   "execution_count": 144,
   "metadata": {},
   "outputs": [
    {
     "data": {
      "text/html": [
       "<div>\n",
       "<style scoped>\n",
       "    .dataframe tbody tr th:only-of-type {\n",
       "        vertical-align: middle;\n",
       "    }\n",
       "\n",
       "    .dataframe tbody tr th {\n",
       "        vertical-align: top;\n",
       "    }\n",
       "\n",
       "    .dataframe thead th {\n",
       "        text-align: right;\n",
       "    }\n",
       "</style>\n",
       "<table border=\"1\" class=\"dataframe\">\n",
       "  <thead>\n",
       "    <tr style=\"text-align: right;\">\n",
       "      <th></th>\n",
       "      <th>Brand</th>\n",
       "      <th>TOT_SALES</th>\n",
       "    </tr>\n",
       "  </thead>\n",
       "  <tbody>\n",
       "    <tr>\n",
       "      <th>0</th>\n",
       "      <td>doritos</td>\n",
       "      <td>26.0</td>\n",
       "    </tr>\n",
       "    <tr>\n",
       "      <th>1</th>\n",
       "      <td>smiths</td>\n",
       "      <td>13.0</td>\n",
       "    </tr>\n",
       "    <tr>\n",
       "      <th>2</th>\n",
       "      <td>infuzions</td>\n",
       "      <td>7.6</td>\n",
       "    </tr>\n",
       "  </tbody>\n",
       "</table>\n",
       "</div>"
      ],
      "text/plain": [
       "       Brand  TOT_SALES\n",
       "0    doritos       26.0\n",
       "1     smiths       13.0\n",
       "2  infuzions        7.6"
      ]
     },
     "execution_count": 144,
     "metadata": {},
     "output_type": "execute_result"
    }
   ],
   "source": [
    "top_products_bottom_stores"
   ]
  },
  {
   "cell_type": "markdown",
   "metadata": {},
   "source": [
    "### How to improve sales?"
   ]
  },
  {
   "cell_type": "markdown",
   "metadata": {},
   "source": [
    "1. Inspect the problem in bottom stores"
   ]
  },
  {
   "cell_type": "code",
   "execution_count": 145,
   "metadata": {},
   "outputs": [],
   "source": [
    "bottom_Stores_data=test_data.loc[test_data['STORE_NBR'].apply(lambda x: x in list(bottom_stores.STORE_NBR))]"
   ]
  },
  {
   "cell_type": "code",
   "execution_count": 146,
   "metadata": {},
   "outputs": [],
   "source": [
    "bottom_Stores_data=bottom_Stores_data.reset_index(drop=True)"
   ]
  },
  {
   "cell_type": "code",
   "execution_count": 147,
   "metadata": {},
   "outputs": [],
   "source": [
    "top_Stores_data=test_data.loc[test_data['STORE_NBR'].apply(lambda x: x in list(top_stores.STORE_NBR))]"
   ]
  },
  {
   "cell_type": "code",
   "execution_count": 148,
   "metadata": {},
   "outputs": [],
   "source": [
    "top_Stores_data=top_Stores_data.reset_index(drop=True)"
   ]
  },
  {
   "cell_type": "code",
   "execution_count": 149,
   "metadata": {},
   "outputs": [
    {
     "data": {
      "text/html": [
       "<div>\n",
       "<style scoped>\n",
       "    .dataframe tbody tr th:only-of-type {\n",
       "        vertical-align: middle;\n",
       "    }\n",
       "\n",
       "    .dataframe tbody tr th {\n",
       "        vertical-align: top;\n",
       "    }\n",
       "\n",
       "    .dataframe thead th {\n",
       "        text-align: right;\n",
       "    }\n",
       "</style>\n",
       "<table border=\"1\" class=\"dataframe\">\n",
       "  <thead>\n",
       "    <tr style=\"text-align: right;\">\n",
       "      <th></th>\n",
       "      <th>LYLTY_CARD_NBR</th>\n",
       "      <th>LIFESTAGE</th>\n",
       "      <th>PREMIUM_CUSTOMER</th>\n",
       "      <th>DATE</th>\n",
       "      <th>STORE_NBR</th>\n",
       "      <th>TXN_ID</th>\n",
       "      <th>PROD_NBR</th>\n",
       "      <th>PROD_NAME</th>\n",
       "      <th>PROD_QTY</th>\n",
       "      <th>TOT_SALES</th>\n",
       "      <th>Weight</th>\n",
       "      <th>Product Name</th>\n",
       "      <th>Price/Product</th>\n",
       "      <th>Brand</th>\n",
       "    </tr>\n",
       "  </thead>\n",
       "  <tbody>\n",
       "    <tr>\n",
       "      <th>0</th>\n",
       "      <td>189381</td>\n",
       "      <td>OLDER FAMILIES</td>\n",
       "      <td>Mainstream</td>\n",
       "      <td>43282</td>\n",
       "      <td>189</td>\n",
       "      <td>190189</td>\n",
       "      <td>84</td>\n",
       "      <td>GrnWves Plus Btroot &amp; Chilli Jam 180g</td>\n",
       "      <td>1</td>\n",
       "      <td>3.1</td>\n",
       "      <td>180</td>\n",
       "      <td>grnwves</td>\n",
       "      <td>3.1</td>\n",
       "      <td>grain</td>\n",
       "    </tr>\n",
       "    <tr>\n",
       "      <th>1</th>\n",
       "      <td>16358</td>\n",
       "      <td>OLDER SINGLES/COUPLES</td>\n",
       "      <td>Mainstream</td>\n",
       "      <td>43282</td>\n",
       "      <td>16</td>\n",
       "      <td>14491</td>\n",
       "      <td>34</td>\n",
       "      <td>Pringles Slt Vingar 134g</td>\n",
       "      <td>1</td>\n",
       "      <td>3.7</td>\n",
       "      <td>134</td>\n",
       "      <td>pringles</td>\n",
       "      <td>3.7</td>\n",
       "      <td>NaN</td>\n",
       "    </tr>\n",
       "    <tr>\n",
       "      <th>2</th>\n",
       "      <td>131000</td>\n",
       "      <td>YOUNG FAMILIES</td>\n",
       "      <td>Premium</td>\n",
       "      <td>43282</td>\n",
       "      <td>131</td>\n",
       "      <td>135315</td>\n",
       "      <td>104</td>\n",
       "      <td>Infuzions Thai SweetChili PotatoMix 110g</td>\n",
       "      <td>1</td>\n",
       "      <td>3.8</td>\n",
       "      <td>110</td>\n",
       "      <td>infuzions</td>\n",
       "      <td>3.8</td>\n",
       "      <td>NaN</td>\n",
       "    </tr>\n",
       "    <tr>\n",
       "      <th>3</th>\n",
       "      <td>139410</td>\n",
       "      <td>YOUNG FAMILIES</td>\n",
       "      <td>Premium</td>\n",
       "      <td>43282</td>\n",
       "      <td>139</td>\n",
       "      <td>142133</td>\n",
       "      <td>76</td>\n",
       "      <td>Woolworths Medium   Salsa 300g</td>\n",
       "      <td>1</td>\n",
       "      <td>1.5</td>\n",
       "      <td>300</td>\n",
       "      <td>woolworths</td>\n",
       "      <td>1.5</td>\n",
       "      <td>NaN</td>\n",
       "    </tr>\n",
       "    <tr>\n",
       "      <th>4</th>\n",
       "      <td>127031</td>\n",
       "      <td>YOUNG SINGLES/COUPLES</td>\n",
       "      <td>Budget</td>\n",
       "      <td>43283</td>\n",
       "      <td>127</td>\n",
       "      <td>130402</td>\n",
       "      <td>61</td>\n",
       "      <td>Smiths Crinkle Cut  Chips Chicken 170g</td>\n",
       "      <td>2</td>\n",
       "      <td>5.8</td>\n",
       "      <td>170</td>\n",
       "      <td>smiths</td>\n",
       "      <td>2.9</td>\n",
       "      <td>NaN</td>\n",
       "    </tr>\n",
       "  </tbody>\n",
       "</table>\n",
       "</div>"
      ],
      "text/plain": [
       "   LYLTY_CARD_NBR              LIFESTAGE PREMIUM_CUSTOMER   DATE  STORE_NBR  \\\n",
       "0          189381         OLDER FAMILIES       Mainstream  43282        189   \n",
       "1           16358  OLDER SINGLES/COUPLES       Mainstream  43282         16   \n",
       "2          131000         YOUNG FAMILIES          Premium  43282        131   \n",
       "3          139410         YOUNG FAMILIES          Premium  43282        139   \n",
       "4          127031  YOUNG SINGLES/COUPLES           Budget  43283        127   \n",
       "\n",
       "   TXN_ID  PROD_NBR                                 PROD_NAME  PROD_QTY  \\\n",
       "0  190189        84     GrnWves Plus Btroot & Chilli Jam 180g         1   \n",
       "1   14491        34                  Pringles Slt Vingar 134g         1   \n",
       "2  135315       104  Infuzions Thai SweetChili PotatoMix 110g         1   \n",
       "3  142133        76            Woolworths Medium   Salsa 300g         1   \n",
       "4  130402        61    Smiths Crinkle Cut  Chips Chicken 170g         2   \n",
       "\n",
       "   TOT_SALES Weight Product Name  Price/Product  Brand  \n",
       "0        3.1    180      grnwves            3.1  grain  \n",
       "1        3.7    134     pringles            3.7    NaN  \n",
       "2        3.8    110    infuzions            3.8    NaN  \n",
       "3        1.5    300   woolworths            1.5    NaN  \n",
       "4        5.8    170       smiths            2.9    NaN  "
      ]
     },
     "execution_count": 149,
     "metadata": {},
     "output_type": "execute_result"
    }
   ],
   "source": [
    "bottom_Stores_data.head()"
   ]
  },
  {
   "cell_type": "code",
   "execution_count": 157,
   "metadata": {},
   "outputs": [
    {
     "data": {
      "text/plain": [
       "PREMIUM_CUSTOMER\n",
       "Budget        1115.5\n",
       "Mainstream    1187.3\n",
       "Premium        905.9\n",
       "Name: TOT_SALES, dtype: float64"
      ]
     },
     "execution_count": 157,
     "metadata": {},
     "output_type": "execute_result"
    }
   ],
   "source": [
    "top_Stores_data.groupby('PREMIUM_CUSTOMER')['TOT_SALES'].sum()"
   ]
  },
  {
   "cell_type": "code",
   "execution_count": 158,
   "metadata": {},
   "outputs": [
    {
     "data": {
      "text/plain": [
       "PREMIUM_CUSTOMER\n",
       "Budget        33.4\n",
       "Mainstream    25.9\n",
       "Premium       43.4\n",
       "Name: TOT_SALES, dtype: float64"
      ]
     },
     "execution_count": 158,
     "metadata": {},
     "output_type": "execute_result"
    }
   ],
   "source": [
    "bottom_Stores_data.groupby('PREMIUM_CUSTOMER')['TOT_SALES'].sum()"
   ]
  },
  {
   "cell_type": "markdown",
   "metadata": {},
   "source": [
    "#### Point 2-----> Mainstream Customers are main buyers of top stores while they are last in terms of buying at bottom stores and we also know from above GROUPED BAR GRAPH that highest sales of MainStream Customers are mainly from RETIREES GROUP. So, target RETIREES around bottom stores."
   ]
  },
  {
   "cell_type": "code",
   "execution_count": 160,
   "metadata": {},
   "outputs": [
    {
     "data": {
      "text/plain": [
       "Brand\n",
       "rrd          151.2\n",
       "doritos      104.0\n",
       "smiths        93.6\n",
       "infuzions     64.6\n",
       "grain         46.5\n",
       "Name: TOT_SALES, dtype: float64"
      ]
     },
     "execution_count": 160,
     "metadata": {},
     "output_type": "execute_result"
    }
   ],
   "source": [
    "test_data[test_data['PREMIUM_CUSTOMER'] == 'Mainstream'].groupby('Brand')['TOT_SALES'].sum().sort_values(ascending=False)[0:5]"
   ]
  },
  {
   "cell_type": "markdown",
   "metadata": {},
   "source": [
    "#### Point 3----> These are the top 5 favourite products in Mainstream customers according to sales. Focus on these products to increase the sales of Mainstream customers in bottom stores"
   ]
  },
  {
   "cell_type": "code",
   "execution_count": null,
   "metadata": {},
   "outputs": [],
   "source": []
  }
 ],
 "metadata": {
  "kernelspec": {
   "display_name": "Python 3",
   "language": "python",
   "name": "python3"
  },
  "language_info": {
   "codemirror_mode": {
    "name": "ipython",
    "version": 3
   },
   "file_extension": ".py",
   "mimetype": "text/x-python",
   "name": "python",
   "nbconvert_exporter": "python",
   "pygments_lexer": "ipython3",
   "version": "3.7.3"
  }
 },
 "nbformat": 4,
 "nbformat_minor": 2
}
